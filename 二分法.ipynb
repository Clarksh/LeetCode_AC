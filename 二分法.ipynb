{
 "cells": [
  {
   "cell_type": "markdown",
   "metadata": {},
   "source": [
    "# 二分查找基本框架"
   ]
  },
  {
   "cell_type": "code",
   "execution_count": null,
   "metadata": {},
   "outputs": [],
   "source": [
    "# 基本框架 ： 18min\n",
    "\n",
    "def bin2search(nums, target):\n",
    "    size = len(nums)\n",
    "    l = 0\n",
    "    r = size - 1\n",
    "    while l <= r: # 易错1：左右指针重合为止， \n",
    "                  # 如果没有等号就会出现只有一个元素不对的情形\n",
    "        mid = (l + r) // 2\n",
    "#         print(mid)\n",
    "        if nums[mid] == target:\n",
    "            return mid\n",
    "        elif nums[mid] < target:# 在右侧\n",
    "            l = mid + 1\n",
    "#             print(nums[l:])\n",
    "#             bin2search(nums[l:], target) # 易错2：把递归的也放进来了\n",
    "        else:\n",
    "            r = mid - 1\n",
    "#             bin2search(nums[:r], target)\n",
    "    return -1\n",
    "    \n",
    "nums = [1,2,3,4,5,9]\n",
    "target = 9\n",
    "print(bin2search(nums, target))\n"
   ]
  },
  {
   "cell_type": "markdown",
   "metadata": {},
   "source": [
    "# 四道搜索选择数组的题目  \n",
    "https://leetcode-cn.com/problems/search-in-rotated-sorted-array/solution/yi-wen-jie-jue-4-dao-sou-suo-xuan-zhuan-pai-xu-s-2/\n"
   ]
  },
  {
   "cell_type": "markdown",
   "metadata": {},
   "source": [
    "## 33. 搜索旋转排序数组  \n",
    "假设按照升序排序的数组在预先未知的某个点上进行了旋转。\n",
    "( 例如，数组 [0,1,2,4,5,6,7] 可能变为 [4,5,6,7,0,1,2] )。\n",
    "搜索一个给定的目标值，如果数组中存在这个目标值，则返回它的索引，否则返回 -1 。\n",
    "你可以假设数组中不存在重复的元素。\n",
    "你的算法时间复杂度必须是 O(log n) 级别。\n"
   ]
  },
  {
   "cell_type": "code",
   "execution_count": null,
   "metadata": {},
   "outputs": [],
   "source": [
    "def search(nums, target):\n",
    "    size = len(nums)\n",
    "    l = 0\n",
    "    r = size - 1\n",
    "    while l <= r:\n",
    "        mid = (l + r) // 2\n",
    "        print(\"l:{},r:{}\".format(l,r))\n",
    "        if nums[mid] == target:\n",
    "            return mid\n",
    "        if nums[l] <= nums[mid]: # 易错： 不能没有等号，左边是有序的，对左边可以做二分\n",
    "            if nums[l] <= target <= nums[mid]:# 然后查看 target在不在有序的左边\n",
    "                r = mid-1\n",
    "            else:  # 不在的话就对右边做\n",
    "                l = mid+1\n",
    "        else: # 右边是有序的，对右边可以做二分\n",
    "            if nums[mid] <= target <= nums[r]:\n",
    "                l = mid + 1\n",
    "            else:\n",
    "                r = mid -1\n",
    "                \n",
    "    return -1\n",
    "\n",
    "#nums = [4,5,6,7,0,1,2]\n",
    "nums =[3,1]\n",
    "target = 1\n",
    "print(search(nums, target))"
   ]
  },
  {
   "cell_type": "code",
   "execution_count": null,
   "metadata": {
    "collapsed": true
   },
   "outputs": [],
   "source": [
    "# 81. 搜索旋转排序数组 II ：衍生题目：如果存在多个重复元素,就会出现[1, 3, 1, 1, 1]\n",
    "# 这种情形，看如何处理这种情形就行了\n",
    "\n",
    "# 如果是重复元素，那么就不能用中点比两边点的大小比较做文章了\n",
    "# 分割点的元素不能重复\n",
    "# 正常：nums[0] != nums[-1]  \n",
    "# nums[0] == nums[-1] == target\n",
    "# nums[0] == nums[-1] != target: 可能会出现[1, 3, 1, 1, 1], \n",
    "# 这样会出现中点和两端比较相同的情形， 无法判断在哪一边：出现这种情况说明，某一边全为相同的数\n",
    "\n",
    "def search(self, nums: List[int], target: int) -> bool:\n",
    "    if len(nums) == 0:\n",
    "        return False\n",
    "    l = 0\n",
    "    r = len(nums) - 1\n",
    "\n",
    "    if nums[0] != nums[-1]:\n",
    "        while l <= r:\n",
    "            mid = (l + r) // 2\n",
    "            #print(\"l:{},r:{}\".format(l,r))\n",
    "            if nums[mid] == target:\n",
    "                return True\n",
    "            if nums[l] <= nums[mid]: # 易错： 不能没有等号，左边是有序的，对左边可以做二分\n",
    "                if nums[l] <= target <= nums[mid]:# 然后查看 target在不在有序的左边\n",
    "                    r = mid-1\n",
    "                else:  # 不在的话就对右边做\n",
    "                    l = mid+1\n",
    "            else: # 右边是有序的，对右边可以做二分\n",
    "                if nums[mid] <= target <= nums[r]:\n",
    "                    l = mid + 1\n",
    "                else:\n",
    "                    r = mid -1\n",
    "        return False\n",
    "    elif nums[0] == nums[-1] == target:\n",
    "        return True\n",
    "\n",
    "    elif nums[0] == nums[-1] != target: #如果是这种情况，那么就要遍历一遍了\n",
    "        for i in nums:\n",
    "            if i == target:\n",
    "                return True\n",
    "    \n",
    "        return False\n",
    "        \n",
    "\n",
    "#nums = [4,5,6,7,0,1,2]\n",
    "nums =[3,1]\n",
    "target = 1\n",
    "print(search(nums, target))\n",
    "\n",
    "# 最终复杂度为: O(n) + O(log n)"
   ]
  },
  {
   "cell_type": "code",
   "execution_count": 15,
   "metadata": {},
   "outputs": [
    {
     "name": "stdout",
     "output_type": "stream",
     "text": [
      "True\n"
     ]
    }
   ],
   "source": [
    "# 解法二：\n",
    "def search(nums, target):\n",
    "    left = 0\n",
    "    right = len(nums) - 1\n",
    "    \n",
    "    while left <= right:\n",
    "        mid = (left + right) // 2\n",
    "        if nums[mid] == target:  # 重复就跳过，最多是\n",
    "            return True\n",
    "        if nums[mid] == nums[left]:\n",
    "            left += 1\n",
    "        elif nums[mid] > nums[left]:\n",
    "            if nums[mid] > target >= nums[left]:\n",
    "                right = mid - 1\n",
    "            else:\n",
    "                left = mid + 1\n",
    "        else: \n",
    "            if nums[mid] < target <= nums[right]:\n",
    "                left = mid + 1\n",
    "            else:\n",
    "                right = mid - 1\n",
    "                \n",
    "    return False\n",
    "    \n",
    "nums =[3,1,1,1,1]\n",
    "target = 1\n",
    "\n",
    "print(search(nums, target))"
   ]
  },
  {
   "cell_type": "markdown",
   "metadata": {},
   "source": [
    "## 153 搜索旋转排序数组中的最小值\n",
    " 不存在重复元素  \n",
    " 给出思路， 看你会不会写：   \n",
    " \n",
    "    如果没有翻转，那么nums[left]最小；现在翻转了，那么就看翻转的那一部分的第一个数是什么"
   ]
  },
  {
   "cell_type": "code",
   "execution_count": 13,
   "metadata": {},
   "outputs": [
    {
     "name": "stdout",
     "output_type": "stream",
     "text": [
      "1\n"
     ]
    }
   ],
   "source": [
    "def findMin(nums):\n",
    "    l = 0\n",
    "    r = len(nums) - 1\n",
    "    while l < r:\n",
    "        mid = (l + r) // 2\n",
    "        if nums[r] < nums[mid]: # 不连续，那么断点在左边\n",
    "            l = mid + 1# 要包括中点，因为断点可能就在mid\n",
    "        else:                # 连续，说明左边正常，而且中点也正常，那么断点在右边,\n",
    "            r = mid\n",
    "    return nums[r]\n",
    "print(findMin([3,4,5,1,2]))"
   ]
  },
  {
   "cell_type": "code",
   "execution_count": 10,
   "metadata": {},
   "outputs": [
    {
     "name": "stdout",
     "output_type": "stream",
     "text": [
      "1\n"
     ]
    }
   ],
   "source": [
    "def findMin(nums):\n",
    "    l = 0\n",
    "    r = len(nums) - 1\n",
    "    while l < r:\n",
    "        mid = (l + r) // 2\n",
    "        if nums[l] < nums[r]:\n",
    "            return nums[l]\n",
    "        if nums[l] > nums[mid]: # 不连续，那么断点在左边\n",
    "            r = mid # 要包括中点，因为断点可能就在mid\n",
    "        else:                # 连续，说明左边正常，而且中点也正常，那么断点在右边,\n",
    "            l = mid+1\n",
    "    return nums[l]\n",
    "            \n",
    "print(findMin([3,4,5,1,2]))"
   ]
  },
  {
   "cell_type": "code",
   "execution_count": 16,
   "metadata": {},
   "outputs": [
    {
     "name": "stdout",
     "output_type": "stream",
     "text": [
      "2\n"
     ]
    }
   ],
   "source": [
    "def findMin(nums):\n",
    "    l = 0\n",
    "    r = len(nums) - 1\n",
    "    while l < r:\n",
    "        mid = (l + r) // 2\n",
    "#         if nums[l] < nums[r]:\n",
    "#             return nums[l]\n",
    "        if nums[l] > nums[mid]: # 断点在左边\n",
    "            r = mid # 要包括中点，因为断点可能就在mid\n",
    "        else:                # 连续，说明左边正常，而且中点也正常，那么断点在右边,\n",
    "            l = mid+1\n",
    "    return nums[l]\n",
    "            \n",
    "print(findMin([3,4,5,1,2]))"
   ]
  },
  {
   "cell_type": "markdown",
   "metadata": {},
   "source": [
    "## 154. 寻找旋转排序数组中的最小值 II  \n",
    "处理重复元素"
   ]
  },
  {
   "cell_type": "code",
   "execution_count": 6,
   "metadata": {},
   "outputs": [
    {
     "name": "stdout",
     "output_type": "stream",
     "text": [
      "1\n"
     ]
    }
   ],
   "source": [
    "def findMin(nums):\n",
    "    l = 0\n",
    "    r = len(nums) - 1\n",
    "    while l < r: #  不用= , 找最小值，一定存在不需要，二分法寻找可能不存在的值才需要取等号。\n",
    "        mid = (l + r) // 2\n",
    "        if nums[l] < nums[r]: # 如果已经递增\n",
    "            return nums[l]\n",
    "        if nums[l] > nums[mid]: # 不连续，那么断点在左边\n",
    "            r = mid # 要包括中点，因为断点可能就在mid\n",
    "        elif nums[l] < nums[mid]:                # 连续，说明左边正常，而且中点也正常，那么断点在右边,\n",
    "            l = mid+1\n",
    "        else:\n",
    "            l = l+ 1\n",
    "    return nums[r]\n",
    "            \n",
    "print(findMin([1,3,5]))"
   ]
  },
  {
   "cell_type": "code",
   "execution_count": 7,
   "metadata": {},
   "outputs": [
    {
     "name": "stdout",
     "output_type": "stream",
     "text": [
      "1\n"
     ]
    }
   ],
   "source": [
    "def findMin(nums):\n",
    "        left, right = 0, len(nums) - 1\n",
    "        while left < right:\n",
    "            mid = (left + right) // 2\n",
    "            if nums[mid] > nums[right]: left = mid + 1\n",
    "            elif nums[mid] < nums[right]: right = mid\n",
    "            else: right = right - 1 # key\n",
    "        return nums[left]\n",
    "\n",
    "print(findMin([1,2]))"
   ]
  },
  {
   "cell_type": "code",
   "execution_count": null,
   "metadata": {
    "collapsed": true
   },
   "outputs": [],
   "source": []
  },
  {
   "cell_type": "markdown",
   "metadata": {},
   "source": [
    "```\n",
    "总结一： \n",
    "用[1,3,5]作为例子\n",
    "如果是nums[r] 和 nums[mid] 做比较，那么不用处理\n",
    "如果是nums[l] 和 nums[mid] 作比较，那么要加上初试判断\n",
    "if nums[l] < nums[r]: \n",
    "            return nums[l]\n",
    "            \n",
    "            \n",
    " 总结二：\n",
    " 33和81：查看是否存在某元素，即有可能不存在，所以要用while l <= r\n",
    " 153和154: 找最小值，一定存在。所以用while l < r，不用加=\n",
    "            ```"
   ]
  },
  {
   "cell_type": "markdown",
   "metadata": {},
   "source": [
    "# 在实际问题中运用二分查找模板代码\n",
    "https://imageslr.github.io/2020/03/15/leetcode-875.html"
   ]
  },
  {
   "cell_type": "code",
   "execution_count": null,
   "metadata": {
    "collapsed": true
   },
   "outputs": [],
   "source": []
  }
 ],
 "metadata": {
  "kernelspec": {
   "display_name": "Python 3",
   "language": "python",
   "name": "python3"
  },
  "language_info": {
   "codemirror_mode": {
    "name": "ipython",
    "version": 3
   },
   "file_extension": ".py",
   "mimetype": "text/x-python",
   "name": "python",
   "nbconvert_exporter": "python",
   "pygments_lexer": "ipython3",
   "version": "3.6.9"
  }
 },
 "nbformat": 4,
 "nbformat_minor": 2
}
