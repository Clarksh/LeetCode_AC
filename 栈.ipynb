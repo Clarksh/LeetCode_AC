{
 "cells": [
  {
   "cell_type": "markdown",
   "metadata": {},
   "source": [
    "# 手动实现栈"
   ]
  },
  {
   "cell_type": "markdown",
   "metadata": {},
   "source": [
    "## 目标：  \n",
    "\n",
    "实现栈，使其具有方法：压栈（push）、弹栈（pop）、取栈顶元素（get_top）、\n",
    "判断栈是否为空（is_empty）、获取栈中元素个数（size）\n"
   ]
  },
  {
   "cell_type": "markdown",
   "metadata": {},
   "source": [
    "# 方法一：用list实现："
   ]
  },
  {
   "cell_type": "markdown",
   "metadata": {},
   "source": [
    "核心思想：以数组（列表）作为存储栈数据的数据结构，Python里本身  \n",
    "对列表有着丰富的内置操作，比如pop,append,len等等，列表是顺序  \n",
    "存储，并且在Python初始化一个列表时，不一定非要指定列表长度，这  \n",
    "使得Python列表实现起来非常简单和方便。  \n",
    "\n",
    "注意：一般在C、Java中初始化数组(列表)时，是必须声明数组（列表）  \n",
    "长度的，而在Python中，可以不限定，但append添加的效率很明显要比  \n",
    "直接赋值（比如：list[1] = \"Python\"）的低很多   "
   ]
  },
  {
   "cell_type": "code",
   "execution_count": 2,
   "metadata": {
    "collapsed": true
   },
   "outputs": [],
   "source": [
    "class ListStack:\n",
    "    def __init__(self):\n",
    "        self.stack = []  # 列表，不指定长度\n",
    "        # self.stack = [0]*10  # 列表，指定长度\n",
    "\n",
    "    # 入栈\n",
    "    def stack_push(self, x):\n",
    "        self.stack.append(x)  # 入栈\n",
    "        print(\"********入栈成功********\")\n",
    "\n",
    "    # 出栈\n",
    "    def stack_pop(self):\n",
    "        if self.stack_len() > 0:\n",
    "            self.stack.pop()  # 出栈\n",
    "            print(\"********出栈成功********\")\n",
    "        else:\n",
    "            print(\"********栈已空********\")\n",
    "\n",
    "    # 获取栈顶元素： 就是最后一个元素，因为是最后一个append进去的\n",
    "    def get_stack_top(self):\n",
    "        if self.stack_is_empty():\n",
    "            print(\"********空栈********\")\n",
    "            return None\n",
    "        else:\n",
    "            return self.stack[self.stack_len() - 1]\n",
    "\n",
    "    # 判断栈是否为空\n",
    "    def stack_is_empty(self):\n",
    "        if self.stack_len() == 0:\n",
    "            return True\n",
    "        else:\n",
    "            return False\n",
    "\n",
    "    # 栈长度\n",
    "    def stack_len(self):\n",
    "        return len(self.stack)"
   ]
  },
  {
   "cell_type": "code",
   "execution_count": null,
   "metadata": {
    "collapsed": true
   },
   "outputs": [],
   "source": []
  },
  {
   "cell_type": "markdown",
   "metadata": {},
   "source": [
    "# 方法二：链表实现栈"
   ]
  },
  {
   "cell_type": "markdown",
   "metadata": {},
   "source": [
    "核心思想：以链表作为存储栈数据的数据结构，Python里本身  \n",
    "是不含链表这种数据结构的，所以需要我们自己去写对链表的基  \n",
    "本操作，当然在上一章中我们已经非常熟悉链表了，所以操作起  \n",
    "来还是很简单。  \n",
    "\n",
    "注意：Python内置的数据结构里没有链表，我们一般用引用实现  \n",
    "链表这一数据结构，创建一个类LinkNode，包含两个属性，data  \n",
    "为数据域，存放当前结点数据，next为指针域。存放下一个结点的  \n",
    "地址（指针）。  "
   ]
  },
  {
   "cell_type": "code",
   "execution_count": null,
   "metadata": {
    "collapsed": true
   },
   "outputs": [],
   "source": [
    "class LinkNode:\n",
    "    def __init__(self, x):\n",
    "        self.data = x  # 数据域\n",
    "        self.next = None  # 指针域\n",
    "\n",
    "\n",
    "class LinkStack:\n",
    "    def __init__(self):\n",
    "        self.data = \"head\"\n",
    "        self.next = None  # 头结点，栈的top指针\n",
    "\n",
    "    # 入栈\n",
    "    def stack_push(self, x):\n",
    "        node = LinkNode(x)  # 新建一个结点\n",
    "        node.next = self.next\n",
    "        self.next = node  #  插入到头结点后\n",
    "        print(\"********入栈成功********\")\n",
    "\n",
    "    # 出栈\n",
    "    def stack_pop(self):\n",
    "        if not self.stack_is_empty():\n",
    "            node = self.next\n",
    "            self.next = node.next # 出栈，让self.next指向第二个结点\n",
    "            print(\"********出栈成功********\")\n",
    "        else:\n",
    "            print(\"********栈已空********\")\n",
    "\n",
    "    # 获取栈顶元素\n",
    "    def get_stack_top(self):\n",
    "        if self.stack_is_empty():\n",
    "            print(\"********空栈********\")\n",
    "            return None\n",
    "        else:\n",
    "            return self.next.data\n",
    "\n",
    "    # 判断栈是否为空\n",
    "    def stack_is_empty(self):\n",
    "        if self.stack_len() == 0:\n",
    "            return True\n",
    "        else:\n",
    "            return False\n",
    "\n",
    "    # 栈长度\n",
    "    def stack_len(self):\n",
    "        link_len = 0\n",
    "        cur_node = self.next\n",
    "        while cur_node:  # 遍历计算链表长，即栈长\n",
    "            cur_node = cur_node.next\n",
    "            link_len = link_len + 1\n",
    "        return link_len"
   ]
  }
 ],
 "metadata": {
  "kernelspec": {
   "display_name": "Python 3",
   "language": "python",
   "name": "python3"
  },
  "language_info": {
   "codemirror_mode": {
    "name": "ipython",
    "version": 3
   },
   "file_extension": ".py",
   "mimetype": "text/x-python",
   "name": "python",
   "nbconvert_exporter": "python",
   "pygments_lexer": "ipython3",
   "version": "3.6.9"
  }
 },
 "nbformat": 4,
 "nbformat_minor": 2
}
