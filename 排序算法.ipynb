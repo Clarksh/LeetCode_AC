{
 "cells": [
  {
   "cell_type": "markdown",
   "metadata": {
    "nbpresent": {
     "id": "80365203-756f-4dc8-841d-db47102b9886"
    }
   },
   "source": [
    "# 一、插入排序 "
   ]
  },
  {
   "cell_type": "markdown",
   "metadata": {
    "collapsed": true,
    "nbpresent": {
     "id": "3f0e4e15-0c3c-4eff-b1f2-10eb9bbcf700"
    }
   },
   "source": [
    "# 1.直接插入排序"
   ]
  },
  {
   "cell_type": "code",
   "execution_count": 8,
   "metadata": {
    "nbpresent": {
     "id": "1a04c359-8004-4a3b-a992-fc1ed9ea9a2c"
    }
   },
   "outputs": [
    {
     "name": "stdout",
     "output_type": "stream",
     "text": [
      "[1, 2, 3, 4, 5]\n"
     ]
    }
   ],
   "source": [
    "def insert(lists):\n",
    "    length=len(lists)\n",
    "    for i in range(1,length):\n",
    "        key=lists[i]#每次要插哪张牌\n",
    "        j=i-1\n",
    "        while j>=0:\n",
    "            if lists[j]>key:#如果前一张比它大就前移，到比它小为止\n",
    "                lists[j+1]=lists[j]\n",
    "                lists[j]=key\n",
    "            j=j-1\n",
    "    return lists\n",
    "                \n",
    "riginLists=[3,5,1,4,2]\n",
    "orderLists=insert(riginLists)\n",
    "print(orderLists)"
   ]
  },
  {
   "cell_type": "markdown",
   "metadata": {
    "nbpresent": {
     "id": "57213ab1-4d8c-45ba-b59c-66d2e82868a0"
    }
   },
   "source": [
    "## 2.希尔排序"
   ]
  },
  {
   "cell_type": "code",
   "execution_count": null,
   "metadata": {
    "collapsed": true,
    "nbpresent": {
     "id": "51b8c150-0512-4f8c-95d9-611034de01af"
    }
   },
   "outputs": [],
   "source": []
  },
  {
   "cell_type": "markdown",
   "metadata": {
    "nbpresent": {
     "id": "2decebb6-a262-4234-9277-469a60707c02"
    }
   },
   "source": [
    "# 二、选择排序"
   ]
  },
  {
   "cell_type": "markdown",
   "metadata": {
    "nbpresent": {
     "id": "781a13fd-f228-43fc-a90e-276f83aab4d6"
    }
   },
   "source": [
    "# 1.简单选择排序"
   ]
  },
  {
   "cell_type": "code",
   "execution_count": 13,
   "metadata": {
    "nbpresent": {
     "id": "34eee905-52cb-42aa-ae09-0dca59301874"
    }
   },
   "outputs": [
    {
     "name": "stdout",
     "output_type": "stream",
     "text": [
      "[1, 2, 3, 4, 5]\n"
     ]
    }
   ],
   "source": [
    "def select_sort(lists):\n",
    "    count=len(lists)\n",
    "    for i in range(0,count):\n",
    "        min=i\n",
    "        for j in range(i+1,count):#找到最小的索引min\n",
    "            if lists[j]<lists[min]:\n",
    "                min=j\n",
    "        lists[min],lists[i]=lists[i],lists[min]#把最小的换到前面\n",
    "    return lists\n",
    "riginLists=[3,5,1,4,2]\n",
    "orderLists=select_sort(riginLists)\n",
    "print(orderLists)"
   ]
  },
  {
   "cell_type": "markdown",
   "metadata": {
    "nbpresent": {
     "id": "ae4e2894-f7fd-4650-a1d4-f946d499cdbd"
    }
   },
   "source": [
    "# 2.堆排序 ！！！(重点）"
   ]
  },
  {
   "cell_type": "code",
   "execution_count": 1,
   "metadata": {
    "nbpresent": {
     "id": "38159831-c8fc-424f-9f11-38754490ce4d"
    }
   },
   "outputs": [
    {
     "name": "stdout",
     "output_type": "stream",
     "text": [
      "[9, 17, 32, 45, 53, 63, 65, 78, 87]\n"
     ]
    }
   ],
   "source": [
    "# 调整堆\n",
    "def adjust_heap(lists, i, size):#以i为根节点开始调整成以i为根节点的最大堆\n",
    "    lchild = 2 * i + 1#堆是完全二叉树，可求左右子树\n",
    "    rchild = 2 * i + 2\n",
    "    max = i\n",
    "    if i < size / 2:#完全二叉树的分支节点（就是有叶子节点的）小于等了size/2\n",
    "        if lchild < size and lists[lchild] > lists[max]:\n",
    "            max = lchild\n",
    "        if rchild < size and lists[rchild] > lists[max]:\n",
    "            max = rchild\n",
    "        if max != i:#如果根节点不是最大就调换位置\n",
    "            lists[max], lists[i] = lists[i], lists[max]\n",
    "            adjust_heap(lists, max, size)#然后以max为根节点进行调整\n",
    "\n",
    "# 创建堆\n",
    "def build_heap(lists, size):#从下往上构建堆\n",
    "    for i in range(0, int(size/2))[::-1]:\n",
    "        adjust_heap(lists, i, size)\n",
    "\n",
    "# 堆排序\n",
    "def heap_sort(lists):\n",
    "    size = len(lists)\n",
    "    build_heap(lists, size)#先创建堆\n",
    "    for i in range(0, size)[::-1]:#i从size-1到1\n",
    "        lists[0], lists[i] = lists[i], lists[0]#交换堆顶和堆底\n",
    "        adjust_heap(lists, 0, i)#把剩下的重新排\n",
    "    return lists\n",
    "\n",
    "riginLists=[87,45,78,32,17,65,53,9,63]\n",
    "orderLists=heap_sort(riginLists)\n",
    "print(orderLists)"
   ]
  },
  {
   "cell_type": "markdown",
   "metadata": {},
   "source": [
    "# 三、交换排序"
   ]
  },
  {
   "cell_type": "markdown",
   "metadata": {},
   "source": [
    "# 1.冒泡排序"
   ]
  },
  {
   "cell_type": "code",
   "execution_count": 22,
   "metadata": {},
   "outputs": [
    {
     "name": "stdout",
     "output_type": "stream",
     "text": [
      "[9, 17, 32, 45, 53, 63, 65, 78, 87]\n"
     ]
    }
   ],
   "source": [
    "def bubble_sort(lists):#想象成将一个从大到小排序成从小到大（最坏情况）\n",
    "    count=len(lists)\n",
    "    for i in range(0,count):\n",
    "        for j in range(i+1,count):\n",
    "            if lists[i]>lists[j]:\n",
    "                lists[i],lists[j]=lists[j],lists[i]\n",
    "    return lists\n",
    "riginLists=[87,45,78,32,17,65,53,9,63]\n",
    "orderLists=bubble_sort(riginLists)\n",
    "print(orderLists)"
   ]
  },
  {
   "cell_type": "markdown",
   "metadata": {},
   "source": [
    "# 2.快速排序 （重要！！！！）"
   ]
  },
  {
   "cell_type": "code",
   "execution_count": 45,
   "metadata": {},
   "outputs": [
    {
     "name": "stdout",
     "output_type": "stream",
     "text": [
      "[9, 17, 32, 45, 53, 63, 65, 78, 87]\n"
     ]
    }
   ],
   "source": [
    "def quick_sort(lists, left, right):\n",
    "    # 快速排序\n",
    "    if left >= right:\n",
    "        return lists\n",
    "    key = lists[left]#以最左边为基准\n",
    "    low = left\n",
    "    high = right\n",
    "    while left < right:\n",
    "        while left < right and lists[right] >= key:\n",
    "            right -= 1#满足条件继续找\n",
    "        lists[left] = lists[right]#右边的小的话就换到左边\n",
    "        while left < right and lists[left] <= key:\n",
    "            left += 1\n",
    "        lists[right] = lists[left]\n",
    "    lists[right] = key#????\n",
    "    quick_sort(lists, low, left - 1)\n",
    "    quick_sort(lists, left + 1, high)\n",
    "    return lists\n",
    "\n",
    "riginLists=[87,45,78,32,17,65,53,9,63]\n",
    "orderLists=quick_sort(riginLists,0,len(riginLists)-1)\n",
    "print(orderLists)"
   ]
  },
  {
   "cell_type": "markdown",
   "metadata": {},
   "source": [
    "# 四、归并排序"
   ]
  },
  {
   "cell_type": "code",
   "execution_count": 49,
   "metadata": {},
   "outputs": [
    {
     "name": "stdout",
     "output_type": "stream",
     "text": [
      "[9, 17, 32, 45, 53, 63, 65, 78, 87]\n"
     ]
    }
   ],
   "source": [
    "def merge(left, right):#将两个有序的合成一个有序的数组\n",
    "    i, j = 0, 0\n",
    "    result = []\n",
    "    while i < len(left) and j < len(right):\n",
    "        if left[i] <= right[j]:\n",
    "            result.append(left[i])\n",
    "            i += 1\n",
    "        else:\n",
    "            result.append(right[j])\n",
    "            j += 1\n",
    "    result += left[i:]\n",
    "    result += right[j:]\n",
    "    return result\n",
    "\n",
    "def merge_sort(lists):\n",
    "    # 归并排序\n",
    "    if len(lists) <= 1:#输入判定\n",
    "        return lists\n",
    "    num = int(len(lists)/2)\n",
    "    left = merge_sort(lists[:num])\n",
    "    right = merge_sort(lists[num:])\n",
    "    return merge(left, right)\n",
    "\n",
    "riginLists=[87,45,78,32,17,65,53,9,63]\n",
    "orderLists=merge_sort(riginLists)\n",
    "print(orderLists)"
   ]
  },
  {
   "cell_type": "code",
   "execution_count": 50,
   "metadata": {},
   "outputs": [
    {
     "name": "stdout",
     "output_type": "stream",
     "text": [
      "[1, 1, 1, 2]\n"
     ]
    }
   ],
   "source": [
    "a=[1,1]\n",
    "b=[1,2]\n",
    "c=[]\n",
    "c=a+b\n",
    "print(c)"
   ]
  },
  {
   "cell_type": "markdown",
   "metadata": {},
   "source": [
    "# 五、基数排序"
   ]
  },
  {
   "cell_type": "code",
   "execution_count": 52,
   "metadata": {},
   "outputs": [
    {
     "name": "stdout",
     "output_type": "stream",
     "text": [
      "[9, 17, 32, 45, 53, 63, 65, 78, 87]\n"
     ]
    }
   ],
   "source": [
    "import math\n",
    "\n",
    "def radix_sort(lists, radix=10):\n",
    "    k = int(math.ceil(math.log(max(lists), radix)))\n",
    "    bucket = [[] for i in range(radix)]\n",
    "    for i in range(1, k+1):\n",
    "        for j in lists:\n",
    "            bucket[int(j/(radix**(i-1))) % (radix**i)].append(j)\n",
    "        del lists[:]\n",
    "        for z in bucket:\n",
    "            lists += z\n",
    "            del z[:]\n",
    "    return lists\n",
    "\n",
    "riginLists=[87,45,78,32,17,65,53,9,63]\n",
    "orderLists=radix_sort(riginLists)\n",
    "print(orderLists)"
   ]
  },
  {
   "cell_type": "code",
   "execution_count": null,
   "metadata": {
    "collapsed": true
   },
   "outputs": [],
   "source": []
  }
 ],
 "metadata": {
  "anaconda-cloud": {},
  "kernelspec": {
   "display_name": "Python 3",
   "language": "python",
   "name": "python3"
  },
  "language_info": {
   "codemirror_mode": {
    "name": "ipython",
    "version": 3
   },
   "file_extension": ".py",
   "mimetype": "text/x-python",
   "name": "python",
   "nbconvert_exporter": "python",
   "pygments_lexer": "ipython3",
   "version": "3.6.9"
  },
  "nbpresent": {
   "slides": {
    "7924f585-1544-44f7-b614-b521d1b5f822": {
     "id": "7924f585-1544-44f7-b614-b521d1b5f822",
     "layout": "treemap",
     "prev": null,
     "regions": {}
    }
   },
   "themes": {
    "default": "3dfcb5ca-011a-429f-8b99-09e95eebbf09",
    "theme": {
     "3dfcb5ca-011a-429f-8b99-09e95eebbf09": {
      "id": "3dfcb5ca-011a-429f-8b99-09e95eebbf09",
      "palette": {
       "19cc588f-0593-49c9-9f4b-e4d7cc113b1c": {
        "id": "19cc588f-0593-49c9-9f4b-e4d7cc113b1c",
        "rgb": [
         252,
         252,
         252
        ]
       },
       "31af15d2-7e15-44c5-ab5e-e04b16a89eff": {
        "id": "31af15d2-7e15-44c5-ab5e-e04b16a89eff",
        "rgb": [
         68,
         68,
         68
        ]
       },
       "50f92c45-a630-455b-aec3-788680ec7410": {
        "id": "50f92c45-a630-455b-aec3-788680ec7410",
        "rgb": [
         155,
         177,
         192
        ]
       },
       "c5cc3653-2ee1-402a-aba2-7caae1da4f6c": {
        "id": "c5cc3653-2ee1-402a-aba2-7caae1da4f6c",
        "rgb": [
         43,
         126,
         184
        ]
       },
       "efa7f048-9acb-414c-8b04-a26811511a21": {
        "id": "efa7f048-9acb-414c-8b04-a26811511a21",
        "rgb": [
         25.118061674008803,
         73.60176211453744,
         107.4819383259912
        ]
       }
      },
      "rules": {
       "blockquote": {
        "color": "50f92c45-a630-455b-aec3-788680ec7410"
       },
       "code": {
        "font-family": "Anonymous Pro"
       },
       "h1": {
        "color": "c5cc3653-2ee1-402a-aba2-7caae1da4f6c",
        "font-family": "Lato",
        "font-size": 8
       },
       "h2": {
        "color": "c5cc3653-2ee1-402a-aba2-7caae1da4f6c",
        "font-family": "Lato",
        "font-size": 6
       },
       "h3": {
        "color": "50f92c45-a630-455b-aec3-788680ec7410",
        "font-family": "Lato",
        "font-size": 5.5
       },
       "h4": {
        "color": "c5cc3653-2ee1-402a-aba2-7caae1da4f6c",
        "font-family": "Lato",
        "font-size": 5
       },
       "h5": {
        "font-family": "Lato"
       },
       "h6": {
        "font-family": "Lato"
       },
       "h7": {
        "font-family": "Lato"
       },
       "pre": {
        "font-family": "Anonymous Pro",
        "font-size": 4
       }
      },
      "text-base": {
       "font-family": "Merriweather",
       "font-size": 4
      }
     },
     "4d2d722c-5914-4ebf-a4ae-c528242f5791": {
      "backgrounds": {
       "dc7afa04-bf90-40b1-82a5-726e3cff5267": {
        "background-color": "31af15d2-7e15-44c5-ab5e-e04b16a89eff",
        "id": "dc7afa04-bf90-40b1-82a5-726e3cff5267"
       }
      },
      "id": "4d2d722c-5914-4ebf-a4ae-c528242f5791",
      "palette": {
       "19cc588f-0593-49c9-9f4b-e4d7cc113b1c": {
        "id": "19cc588f-0593-49c9-9f4b-e4d7cc113b1c",
        "rgb": [
         252,
         252,
         252
        ]
       },
       "31af15d2-7e15-44c5-ab5e-e04b16a89eff": {
        "id": "31af15d2-7e15-44c5-ab5e-e04b16a89eff",
        "rgb": [
         68,
         68,
         68
        ]
       },
       "50f92c45-a630-455b-aec3-788680ec7410": {
        "id": "50f92c45-a630-455b-aec3-788680ec7410",
        "rgb": [
         197,
         226,
         245
        ]
       },
       "c5cc3653-2ee1-402a-aba2-7caae1da4f6c": {
        "id": "c5cc3653-2ee1-402a-aba2-7caae1da4f6c",
        "rgb": [
         43,
         126,
         184
        ]
       },
       "efa7f048-9acb-414c-8b04-a26811511a21": {
        "id": "efa7f048-9acb-414c-8b04-a26811511a21",
        "rgb": [
         25.118061674008803,
         73.60176211453744,
         107.4819383259912
        ]
       }
      },
      "rules": {
       "a": {
        "color": "19cc588f-0593-49c9-9f4b-e4d7cc113b1c"
       },
       "blockquote": {
        "color": "50f92c45-a630-455b-aec3-788680ec7410",
        "font-size": 3
       },
       "code": {
        "font-family": "Anonymous Pro"
       },
       "h1": {
        "color": "19cc588f-0593-49c9-9f4b-e4d7cc113b1c",
        "font-family": "Merriweather",
        "font-size": 8
       },
       "h2": {
        "color": "19cc588f-0593-49c9-9f4b-e4d7cc113b1c",
        "font-family": "Merriweather",
        "font-size": 6
       },
       "h3": {
        "color": "50f92c45-a630-455b-aec3-788680ec7410",
        "font-family": "Lato",
        "font-size": 5.5
       },
       "h4": {
        "color": "c5cc3653-2ee1-402a-aba2-7caae1da4f6c",
        "font-family": "Lato",
        "font-size": 5
       },
       "h5": {
        "font-family": "Lato"
       },
       "h6": {
        "font-family": "Lato"
       },
       "h7": {
        "font-family": "Lato"
       },
       "li": {
        "color": "50f92c45-a630-455b-aec3-788680ec7410",
        "font-size": 3.25
       },
       "pre": {
        "font-family": "Anonymous Pro",
        "font-size": 4
       }
      },
      "text-base": {
       "color": "19cc588f-0593-49c9-9f4b-e4d7cc113b1c",
       "font-family": "Lato",
       "font-size": 4
      }
     },
     "5c5d2e69-7de6-46b6-a78e-bc53eb0bdb81": {
      "backgrounds": {
       "backgroundColor": {
        "background-color": "backgroundColor",
        "id": "backgroundColor"
       }
      },
      "id": "5c5d2e69-7de6-46b6-a78e-bc53eb0bdb81",
      "palette": {
       "backgroundColor": {
        "id": "backgroundColor",
        "rgb": [
         34,
         34,
         34
        ]
       },
       "headingColor": {
        "id": "headingColor",
        "rgb": [
         256,
         256,
         256
        ]
       },
       "linkColor": {
        "id": "linkColor",
        "rgb": [
         66,
         175,
         250
        ]
       },
       "mainColor": {
        "id": "mainColor",
        "rgb": [
         256,
         256,
         256
        ]
       }
      },
      "rules": {
       "a": {
        "color": "linkColor"
       },
       "h1": {
        "color": "headingColor",
        "font-family": "Source Sans Pro",
        "font-size": 5.25
       },
       "h2": {
        "color": "headingColor",
        "font-family": "Source Sans Pro",
        "font-size": 4
       },
       "h3": {
        "color": "headingColor",
        "font-family": "Source Sans Pro",
        "font-size": 3.5
       },
       "h4": {
        "color": "headingColor",
        "font-family": "Source Sans Pro",
        "font-size": 3
       },
       "h5": {
        "color": "headingColor",
        "font-family": "Source Sans Pro"
       },
       "h6": {
        "color": "headingColor",
        "font-family": "Source Sans Pro"
       },
       "h7": {
        "color": "headingColor",
        "font-family": "Source Sans Pro"
       },
       "li": {
        "color": "mainColor",
        "font-family": "Source Sans Pro",
        "font-size": 6
       },
       "p": {
        "color": "mainColor",
        "font-family": "Source Sans Pro",
        "font-size": 6
       }
      },
      "text-base": {
       "color": "mainColor",
       "font-family": "Source Sans Pro",
       "font-size": 6
      }
     },
     "7727e69b-ea4b-4eb3-a434-ae2e71365630": {
      "backgrounds": {
       "backgroundColor": {
        "background-color": "backgroundColor",
        "id": "backgroundColor"
       }
      },
      "id": "7727e69b-ea4b-4eb3-a434-ae2e71365630",
      "palette": {
       "backgroundColor": {
        "id": "backgroundColor",
        "rgb": [
         34,
         34,
         34
        ]
       },
       "headingColor": {
        "id": "headingColor",
        "rgb": [
         256,
         256,
         256
        ]
       },
       "linkColor": {
        "id": "linkColor",
        "rgb": [
         66,
         175,
         250
        ]
       },
       "mainColor": {
        "id": "mainColor",
        "rgb": [
         256,
         256,
         256
        ]
       }
      },
      "rules": {
       "a": {
        "color": "linkColor"
       },
       "h1": {
        "color": "headingColor",
        "font-family": "Source Sans Pro",
        "font-size": 5.25
       },
       "h2": {
        "color": "headingColor",
        "font-family": "Source Sans Pro",
        "font-size": 4
       },
       "h3": {
        "color": "headingColor",
        "font-family": "Source Sans Pro",
        "font-size": 3.5
       },
       "h4": {
        "color": "headingColor",
        "font-family": "Source Sans Pro",
        "font-size": 3
       },
       "h5": {
        "color": "headingColor",
        "font-family": "Source Sans Pro"
       },
       "h6": {
        "color": "headingColor",
        "font-family": "Source Sans Pro"
       },
       "h7": {
        "color": "headingColor",
        "font-family": "Source Sans Pro"
       },
       "li": {
        "color": "mainColor",
        "font-family": "Source Sans Pro",
        "font-size": 6
       },
       "p": {
        "color": "mainColor",
        "font-family": "Source Sans Pro",
        "font-size": 6
       }
      },
      "text-base": {
       "color": "mainColor",
       "font-family": "Source Sans Pro",
       "font-size": 6
      }
     }
    }
   }
  }
 },
 "nbformat": 4,
 "nbformat_minor": 1
}
