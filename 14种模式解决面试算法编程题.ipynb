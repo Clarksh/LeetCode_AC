{
 "cells": [
  {
   "cell_type": "markdown",
   "metadata": {},
   "source": [
    "# 1、滑动窗口"
   ]
  },
  {
   "cell_type": "markdown",
   "metadata": {},
   "source": [
    "```\n",
    "适合用滑动窗口的情况:\n",
    "1、问题输入是线性数据结构，如链表、数组或字符串\n",
    "2、题目要求查找最长/最短的子字符串、子数组或所需的值\n",
    "```"
   ]
  },
  {
   "cell_type": "markdown",
   "metadata": {},
   "source": [
    "## 例1："
   ]
  },
  {
   "cell_type": "markdown",
   "metadata": {},
   "source": [
    "\n",
    "```\n",
    "牛客网：https://www.nowcoder.com/practice/1624bc35a45c42c0bc17d17fa0cba788?tpId=13&tqId=11217&tPage=4&rp=4&ru=/ta/coding-interviews&qru=/ta/coding-interviews/question-ranking\n",
    "\n",
    "给定一个数组和滑动窗口的大小，找出所有滑动窗口里数值的最大值。例如，如果输入数组{2,3,4,2,6,2,5,1}及滑动窗口的大小3，那么一共存在6个滑动窗口，他们的最大值分别为{4,4,6,6,6,5}； 针对数组{2,3,4,2,6,2,5,1}的滑动窗口有以下6个： {[2,3,4],2,6,2,5,1}， {2,[3,4,2],6,2,5,1}， {2,3,[4,2,6],2,5,1}， {2,3,4,[2,6,2],5,1}， {2,3,4,2,[6,2,5],1}， {2,3,4,2,6,[2,5,1]}。\n",
    "```"
   ]
  },
  {
   "cell_type": "code",
   "execution_count": 10,
   "metadata": {},
   "outputs": [
    {
     "name": "stdout",
     "output_type": "stream",
     "text": [
      "[4, 4, 6, 6, 6, 5]\n",
      "6\n"
     ]
    }
   ],
   "source": [
    "def maxInWindows(num, size):\n",
    "    \n",
    "    sum_a = []\n",
    "    if size <= 0:\n",
    "        return sum_a\n",
    "    for i in range(0, len(num)-size+1):\n",
    "        sum_a.append(max(num[i:i+size]))\n",
    "    return sum_a\n",
    "\n",
    "a = [2,3,4,2,6,2,5,1]\n",
    "print(maxInWindows(a, 3))\n",
    "        "
   ]
  },
  {
   "cell_type": "markdown",
   "metadata": {},
   "source": [
    "## 例2 ： 480. 滑动窗口中位数（困难）"
   ]
  },
  {
   "cell_type": "markdown",
   "metadata": {},
   "source": [
    "```\n",
    "中位数是有序序列最中间的那个数。如果序列的大小是偶数，则没有最中间的数；此时中位数是最中间的两个数的平均数。\n",
    "\n",
    "例如：\n",
    "\n",
    "[2,3,4]，中位数是 3\n",
    "[2,3]，中位数是 (2 + 3) / 2 = 2.5\n",
    "给你一个数组 nums，有一个大小为 k 的窗口从最左端滑动到最右端。\n",
    "窗口中有 k 个数，每次窗口向右移动 1 位。你的任务是找出每次窗口\n",
    "移动后得到的新窗口中元素的中位数，并输出由它们组成的数组。\n",
    "```"
   ]
  },
  {
   "cell_type": "markdown",
   "metadata": {},
   "source": [
    "## 例3： 76. 最小覆盖子串"
   ]
  },
  {
   "cell_type": "markdown",
   "metadata": {},
   "source": [
    "## 例4： 992. K 个不同整数的子数组"
   ]
  },
  {
   "cell_type": "markdown",
   "metadata": {},
   "source": [
    "# 8、树的宽度优先搜索\n"
   ]
  },
  {
   "cell_type": "markdown",
   "metadata": {},
   "source": [
    "```\n",
    "用队列：初始就把根结点push进队列，然后进行迭代计算，每次迭代pop队列的第一个节点，然后push该节点的子节点进队列。\n",
    "```"
   ]
  },
  {
   "cell_type": "markdown",
   "metadata": {},
   "source": [
    "## 429. N叉树的层序遍历"
   ]
  },
  {
   "cell_type": "code",
   "execution_count": null,
   "metadata": {
    "collapsed": true
   },
   "outputs": [],
   "source": [
    " # 解法一：迭代BFS(广度优先遍历)\n",
    "def levelOrder(root):\n",
    "    result = []\n",
    "    if not root:\n",
    "        return result\n",
    "\n",
    "    current_level = [root] # 储存当前层的节点,初始化为根结点\n",
    "\n",
    "    while current_level:\n",
    "        tmp = []\n",
    "        next_level = []\n",
    "        for node in current_level:\n",
    "            tmp.append(node.val) # 记录当前层的节点值\n",
    "            next_level += node.children  # 放入当前层的子节点到下一层\n",
    "        result.append(tmp)\n",
    "        current_level = next_level\n",
    "    return result\n",
    "        \n",
    "# 时间复杂度：O(n2)\n",
    "# 空间复杂度：O(3n)"
   ]
  },
  {
   "cell_type": "code",
   "execution_count": 12,
   "metadata": {
    "collapsed": true
   },
   "outputs": [
    {
     "ename": "NameError",
     "evalue": "name 'List' is not defined",
     "output_type": "error",
     "traceback": [
      "\u001b[1;31m---------------------------------------------------------------------------\u001b[0m",
      "\u001b[1;31mNameError\u001b[0m                                 Traceback (most recent call last)",
      "\u001b[1;32m<ipython-input-12-f54509daf7ab>\u001b[0m in \u001b[0;36m<module>\u001b[1;34m()\u001b[0m\n\u001b[0;32m      1\u001b[0m \u001b[1;31m# 思路二：DFS（深度优先遍历）\u001b[0m\u001b[1;33m\u001b[0m\u001b[1;33m\u001b[0m\u001b[1;33m\u001b[0m\u001b[0m\n\u001b[0;32m      2\u001b[0m \u001b[1;33m\u001b[0m\u001b[0m\n\u001b[1;32m----> 3\u001b[1;33m \u001b[1;32mdef\u001b[0m \u001b[0mlevelOrder\u001b[0m\u001b[1;33m(\u001b[0m\u001b[0mself\u001b[0m\u001b[1;33m,\u001b[0m \u001b[0mroot\u001b[0m\u001b[1;33m:\u001b[0m \u001b[1;34m'Node'\u001b[0m\u001b[1;33m)\u001b[0m \u001b[1;33m->\u001b[0m \u001b[0mList\u001b[0m\u001b[1;33m[\u001b[0m\u001b[0mList\u001b[0m\u001b[1;33m[\u001b[0m\u001b[0mint\u001b[0m\u001b[1;33m]\u001b[0m\u001b[1;33m]\u001b[0m\u001b[1;33m:\u001b[0m\u001b[1;33m\u001b[0m\u001b[1;33m\u001b[0m\u001b[0m\n\u001b[0m\u001b[0;32m      4\u001b[0m     \u001b[0mres\u001b[0m \u001b[1;33m=\u001b[0m \u001b[1;33m[\u001b[0m\u001b[1;33m]\u001b[0m\u001b[1;33m\u001b[0m\u001b[1;33m\u001b[0m\u001b[0m\n\u001b[0;32m      5\u001b[0m     \u001b[1;32mdef\u001b[0m \u001b[0mbfs\u001b[0m\u001b[1;33m(\u001b[0m\u001b[0mroot\u001b[0m\u001b[1;33m,\u001b[0m \u001b[0mdepth\u001b[0m\u001b[1;33m)\u001b[0m\u001b[1;33m:\u001b[0m\u001b[1;33m\u001b[0m\u001b[1;33m\u001b[0m\u001b[0m\n",
      "\u001b[1;31mNameError\u001b[0m: name 'List' is not defined"
     ]
    }
   ],
   "source": [
    "# 思路二：递归\n",
    "\n",
    "def levelOrder(self, root: 'Node') -> List[List[int]]:\n",
    "    res = []\n",
    "    def dfs(root, depth):\n",
    "        if not root:\n",
    "            return\n",
    "        if len(res) == depth: # \n",
    "            res.append([])\n",
    "        res[depth].append(root.val)\n",
    "        for ch in root.children:\n",
    "            dfs(ch, depth+1)\n",
    "            \n",
    "    dfs(root, 0)\n",
    "    return res"
   ]
  },
  {
   "cell_type": "markdown",
   "metadata": {},
   "source": [
    "## 102. 二叉树的层次遍历 (同上，唯一不同是上一题的root.children是一个数组)"
   ]
  },
  {
   "cell_type": "code",
   "execution_count": null,
   "metadata": {
    "collapsed": true
   },
   "outputs": [],
   "source": [
    "# 思路一：递归\n",
    "def levelOrder(self, root: TreeNode) -> List[List[int]]:\n",
    "    res = []\n",
    "    if not root:\n",
    "        return res\n",
    "\n",
    "    def helper(root, depth):\n",
    "        if len(res) == depth: # 已经计算的层数为当前depth\n",
    "            res.append([])\n",
    "        res[depth].append(root.val)  # 处理值\n",
    "        if root.left:\n",
    "            helper(root.left, depth+1)   # 处理子树\n",
    "        if root.right:\n",
    "            helper(root.right, depth+1)\n",
    "\n",
    "    helper(root, 0)\n",
    "    return res\n",
    "\n",
    "# 时间复杂度：O(N)O(N)，因为每个节点恰好会被运算一次。\n",
    "# 空间复杂度：O(N)O(N)，保存输出结果的数组包含 N 个节点的值。"
   ]
  },
  {
   "cell_type": "code",
   "execution_count": null,
   "metadata": {
    "collapsed": true
   },
   "outputs": [],
   "source": [
    "# 迭代\n",
    "\n",
    "def levelOrder(self, root: TreeNode) -> List[List[int]]:\n",
    "        result = []\n",
    "        if not root:\n",
    "            return result\n",
    "\n",
    "        current_level = [root] # 储存当前层的节点,初始化为根结点\n",
    "\n",
    "        while current_level:\n",
    "            tmp = []\n",
    "            next_level = []\n",
    "            for node in current_level:\n",
    "                tmp.append(node.val) # 记录当前层的节点值\n",
    "                # next_level += node.children  # 放入当前层的子节点到下一层\n",
    "                if node.left:\n",
    "                    next_level.append(node.left)\n",
    "                if node.right:\n",
    "                    next_level.append(node.right)\n",
    "            result.append(tmp)\n",
    "            current_level = next_level\n",
    "        return result\n",
    "    "
   ]
  },
  {
   "cell_type": "markdown",
   "metadata": {},
   "source": [
    "# 9、树的深度优先搜索（Tree DFS）"
   ]
  },
  {
   "cell_type": "code",
   "execution_count": null,
   "metadata": {
    "collapsed": true
   },
   "outputs": [],
   "source": []
  },
  {
   "cell_type": "markdown",
   "metadata": {},
   "source": [
    "# 10、Subset"
   ]
  },
  {
   "cell_type": "code",
   "execution_count": null,
   "metadata": {
    "collapsed": true
   },
   "outputs": [],
   "source": []
  },
  {
   "cell_type": "markdown",
   "metadata": {},
   "source": [
    "# 12、Top K"
   ]
  },
  {
   "cell_type": "code",
   "execution_count": null,
   "metadata": {
    "collapsed": true
   },
   "outputs": [],
   "source": []
  },
  {
   "cell_type": "markdown",
   "metadata": {},
   "source": [
    "# 13、K-way Merge"
   ]
  },
  {
   "cell_type": "code",
   "execution_count": null,
   "metadata": {
    "collapsed": true
   },
   "outputs": [],
   "source": []
  },
  {
   "cell_type": "markdown",
   "metadata": {},
   "source": [
    "# 14、Topological sort 拓扑排序"
   ]
  },
  {
   "cell_type": "code",
   "execution_count": null,
   "metadata": {
    "collapsed": true
   },
   "outputs": [],
   "source": []
  }
 ],
 "metadata": {
  "kernelspec": {
   "display_name": "Python 3",
   "language": "python",
   "name": "python3"
  },
  "language_info": {
   "codemirror_mode": {
    "name": "ipython",
    "version": 3
   },
   "file_extension": ".py",
   "mimetype": "text/x-python",
   "name": "python",
   "nbconvert_exporter": "python",
   "pygments_lexer": "ipython3",
   "version": "3.6.9"
  }
 },
 "nbformat": 4,
 "nbformat_minor": 2
}
