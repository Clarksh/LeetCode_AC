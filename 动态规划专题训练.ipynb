{
 "cells": [
  {
   "cell_type": "markdown",
   "metadata": {},
   "source": [
    "# **动态规划专题训练**"
   ]
  },
  {
   "cell_type": "markdown",
   "metadata": {},
   "source": [
    "### 5. 最长回文子串(动态规划)"
   ]
  },
  {
   "cell_type": "code",
   "execution_count": null,
   "metadata": {
    "collapsed": true
   },
   "outputs": [],
   "source": [
    "def longestPalindrome(s: str) -> str: \n",
    "    # 打表格 ： dp[i][j]  == True : 说明 第i到j位是回文， False:说明 第i到j位不是回文\n",
    "    # 先全部初始化为false \n",
    "    size = len(s) \n",
    "    max_len = 1\n",
    "    start = 0\n",
    "    \n",
    "    # 处理特殊情况 或者说是 初始条件 或者说是 递归终止条件\n",
    "    if size < 2:\n",
    "        return s\n",
    "    dp = [[False for _ in range(size)] for _ in range(size)]\n",
    "#     print(dp)\n",
    "    # 对角线都是True\n",
    "    for i in range(size):\n",
    "        dp[i][i] = True\n",
    "    \n",
    "    # 状态转移\n",
    "    for j in range(1,size):# 只要遍历上三角, 边界条件举一个简单例子就知道了\n",
    "        for i in range(0, j):\n",
    "            if s[i] == s[j] : # 首尾相等\n",
    "                if (j-1-(i+1)+1) < 2:\n",
    "                    dp[i][j] = True\n",
    "                else:\n",
    "                    dp[i][j] = dp[i+1][j-1] # 状态转移\n",
    "            else:\n",
    "                dp[i][j] = False\n",
    "                \n",
    "            # 填完表格了接下来就是找最长\n",
    "            if dp[i][j]:\n",
    "                len1 = j-i+1\n",
    "                if len1 > max_len:\n",
    "                    max_len = len1\n",
    "                    start = i\n",
    "    return s[start:start+max_len]\n",
    "\n",
    "print(longestPalindrome(\"cbab\"))\n",
    "\n"
   ]
  },
  {
   "cell_type": "markdown",
   "metadata": {},
   "source": [
    "### 72 编辑距离（nlp要用）"
   ]
  },
  {
   "cell_type": "code",
   "execution_count": null,
   "metadata": {
    "collapsed": true
   },
   "outputs": [],
   "source": [
    "# 我的解法; 错误，不能通过3个用例\n",
    "def minDistance(word1: str, word2: str) -> int:\n",
    "    wl1 = len(word1)\n",
    "    wl2 = len(word2)\n",
    "    \n",
    "    # 处理特殊情况\n",
    "    if not wl1:\n",
    "        return wl2\n",
    "    if not wl2:\n",
    "        return wl1\n",
    "        \n",
    "    # 打表格，把一开始能填进去的空格先填了\n",
    "    dp = [[0] * wl2 for _ in range(wl1)]  # 定义不能用[[0] * wl2 ] * wl1\n",
    "\n",
    "    if word1[0] == word2[0]:\n",
    "        dp[0][0] = 0\n",
    "    else:\n",
    "        dp[0][0] = 1\n",
    "        \n",
    "    for i in range(1, wl1):\n",
    "        if word1[i] == word2[0]:\n",
    "            dp[i][0] = dp[i-1][0]\n",
    "        else:\n",
    "            dp[i][0] = dp[i-1][0] + 1\n",
    "\n",
    "\n",
    "    for j in range(1, wl2):\n",
    "        if word1[0] == word2[j]:\n",
    "            dp[0][j] = dp[0][j-1]\n",
    "        else:\n",
    "            dp[0][j] = dp[0][j-1] + 1\n",
    "                \n",
    "\n",
    "#     print(dp)\n",
    "    # 状态转移， 写入表格\n",
    "    for i in range(1, wl1):\n",
    "        for j in range(1, wl2):\n",
    "            if word1[i] == word2[j]:\n",
    "                dp[i][j] = dp[i-1][j-1]\n",
    "#                 dp[i][j] = min(dp[i-1][j-1], dp[i-1][j], dp[i][j-1])\n",
    "            else:\n",
    "                dp[i][j] = min(dp[i-1][j-1], dp[i-1][j], dp[i][j-1]) + 1\n",
    "#     print(dp)\n",
    "    return dp[-1][-1]\n",
    "\n",
    "print(minDistance(\"pneumonoultramicroscopicsilicovolcanoconiosis\", \"ultramicroscopically\"))\n",
    "# \"pneumonoultramicroscopicsilicovolcanoconiosis\"\n",
    "# \"ultramicroscopically\"\n",
    "# # 1127 / 1146 个通过测试用例\n",
    "# 1143 / 1146 个通过测试用例\n"
   ]
  },
  {
   "cell_type": "code",
   "execution_count": 31,
   "metadata": {
    "collapsed": true
   },
   "outputs": [
    {
     "name": "stdout",
     "output_type": "stream",
     "text": [
      "[[0, 1, 2, 3, 4, 5, 6, 7, 8, 9, 10, 11, 12, 13, 14, 15, 16, 17, 18, 19, 20], [1, 0, 0, 0, 0, 0, 0, 0, 0, 0, 0, 0, 0, 0, 0, 0, 0, 0, 0, 0, 0], [2, 0, 0, 0, 0, 0, 0, 0, 0, 0, 0, 0, 0, 0, 0, 0, 0, 0, 0, 0, 0], [3, 0, 0, 0, 0, 0, 0, 0, 0, 0, 0, 0, 0, 0, 0, 0, 0, 0, 0, 0, 0], [4, 0, 0, 0, 0, 0, 0, 0, 0, 0, 0, 0, 0, 0, 0, 0, 0, 0, 0, 0, 0], [5, 0, 0, 0, 0, 0, 0, 0, 0, 0, 0, 0, 0, 0, 0, 0, 0, 0, 0, 0, 0], [6, 0, 0, 0, 0, 0, 0, 0, 0, 0, 0, 0, 0, 0, 0, 0, 0, 0, 0, 0, 0], [7, 0, 0, 0, 0, 0, 0, 0, 0, 0, 0, 0, 0, 0, 0, 0, 0, 0, 0, 0, 0], [8, 0, 0, 0, 0, 0, 0, 0, 0, 0, 0, 0, 0, 0, 0, 0, 0, 0, 0, 0, 0], [9, 0, 0, 0, 0, 0, 0, 0, 0, 0, 0, 0, 0, 0, 0, 0, 0, 0, 0, 0, 0], [10, 0, 0, 0, 0, 0, 0, 0, 0, 0, 0, 0, 0, 0, 0, 0, 0, 0, 0, 0, 0], [11, 0, 0, 0, 0, 0, 0, 0, 0, 0, 0, 0, 0, 0, 0, 0, 0, 0, 0, 0, 0], [12, 0, 0, 0, 0, 0, 0, 0, 0, 0, 0, 0, 0, 0, 0, 0, 0, 0, 0, 0, 0], [13, 0, 0, 0, 0, 0, 0, 0, 0, 0, 0, 0, 0, 0, 0, 0, 0, 0, 0, 0, 0], [14, 0, 0, 0, 0, 0, 0, 0, 0, 0, 0, 0, 0, 0, 0, 0, 0, 0, 0, 0, 0], [15, 0, 0, 0, 0, 0, 0, 0, 0, 0, 0, 0, 0, 0, 0, 0, 0, 0, 0, 0, 0], [16, 0, 0, 0, 0, 0, 0, 0, 0, 0, 0, 0, 0, 0, 0, 0, 0, 0, 0, 0, 0], [17, 0, 0, 0, 0, 0, 0, 0, 0, 0, 0, 0, 0, 0, 0, 0, 0, 0, 0, 0, 0], [18, 0, 0, 0, 0, 0, 0, 0, 0, 0, 0, 0, 0, 0, 0, 0, 0, 0, 0, 0, 0], [19, 0, 0, 0, 0, 0, 0, 0, 0, 0, 0, 0, 0, 0, 0, 0, 0, 0, 0, 0, 0], [20, 0, 0, 0, 0, 0, 0, 0, 0, 0, 0, 0, 0, 0, 0, 0, 0, 0, 0, 0, 0], [21, 0, 0, 0, 0, 0, 0, 0, 0, 0, 0, 0, 0, 0, 0, 0, 0, 0, 0, 0, 0], [22, 0, 0, 0, 0, 0, 0, 0, 0, 0, 0, 0, 0, 0, 0, 0, 0, 0, 0, 0, 0], [23, 0, 0, 0, 0, 0, 0, 0, 0, 0, 0, 0, 0, 0, 0, 0, 0, 0, 0, 0, 0], [24, 0, 0, 0, 0, 0, 0, 0, 0, 0, 0, 0, 0, 0, 0, 0, 0, 0, 0, 0, 0], [25, 0, 0, 0, 0, 0, 0, 0, 0, 0, 0, 0, 0, 0, 0, 0, 0, 0, 0, 0, 0], [26, 0, 0, 0, 0, 0, 0, 0, 0, 0, 0, 0, 0, 0, 0, 0, 0, 0, 0, 0, 0], [27, 0, 0, 0, 0, 0, 0, 0, 0, 0, 0, 0, 0, 0, 0, 0, 0, 0, 0, 0, 0], [28, 0, 0, 0, 0, 0, 0, 0, 0, 0, 0, 0, 0, 0, 0, 0, 0, 0, 0, 0, 0], [29, 0, 0, 0, 0, 0, 0, 0, 0, 0, 0, 0, 0, 0, 0, 0, 0, 0, 0, 0, 0], [30, 0, 0, 0, 0, 0, 0, 0, 0, 0, 0, 0, 0, 0, 0, 0, 0, 0, 0, 0, 0], [31, 0, 0, 0, 0, 0, 0, 0, 0, 0, 0, 0, 0, 0, 0, 0, 0, 0, 0, 0, 0], [32, 0, 0, 0, 0, 0, 0, 0, 0, 0, 0, 0, 0, 0, 0, 0, 0, 0, 0, 0, 0], [33, 0, 0, 0, 0, 0, 0, 0, 0, 0, 0, 0, 0, 0, 0, 0, 0, 0, 0, 0, 0], [34, 0, 0, 0, 0, 0, 0, 0, 0, 0, 0, 0, 0, 0, 0, 0, 0, 0, 0, 0, 0], [35, 0, 0, 0, 0, 0, 0, 0, 0, 0, 0, 0, 0, 0, 0, 0, 0, 0, 0, 0, 0], [36, 0, 0, 0, 0, 0, 0, 0, 0, 0, 0, 0, 0, 0, 0, 0, 0, 0, 0, 0, 0], [37, 0, 0, 0, 0, 0, 0, 0, 0, 0, 0, 0, 0, 0, 0, 0, 0, 0, 0, 0, 0], [38, 0, 0, 0, 0, 0, 0, 0, 0, 0, 0, 0, 0, 0, 0, 0, 0, 0, 0, 0, 0], [39, 0, 0, 0, 0, 0, 0, 0, 0, 0, 0, 0, 0, 0, 0, 0, 0, 0, 0, 0, 0], [40, 0, 0, 0, 0, 0, 0, 0, 0, 0, 0, 0, 0, 0, 0, 0, 0, 0, 0, 0, 0], [41, 0, 0, 0, 0, 0, 0, 0, 0, 0, 0, 0, 0, 0, 0, 0, 0, 0, 0, 0, 0], [42, 0, 0, 0, 0, 0, 0, 0, 0, 0, 0, 0, 0, 0, 0, 0, 0, 0, 0, 0, 0], [43, 0, 0, 0, 0, 0, 0, 0, 0, 0, 0, 0, 0, 0, 0, 0, 0, 0, 0, 0, 0], [44, 0, 0, 0, 0, 0, 0, 0, 0, 0, 0, 0, 0, 0, 0, 0, 0, 0, 0, 0, 0], [45, 0, 0, 0, 0, 0, 0, 0, 0, 0, 0, 0, 0, 0, 0, 0, 0, 0, 0, 0, 0]]\n",
      "27\n"
     ]
    }
   ],
   "source": [
    "# 正确解法\n",
    "def minDistance(word1: str, word2: str) -> int:\n",
    "    wl1 = len(word1)+1\n",
    "    wl2 = len(word2)+1\n",
    "\n",
    "    dp = [[0] * wl2 for _ in range(wl1)]  # 易错1：定义不能用[[0] * wl2 ] * wl1\n",
    "    \n",
    "    #易错2： 要在每个字符串前有一个空  用 _eat 和 _sea 比较 初始化第一列和第一行\n",
    "    # 打表格，把一开始能填进去的空格先填了\n",
    "    for i in range(0, wl1):\n",
    "            dp[i][0] = i\n",
    "\n",
    "    for j in range(0, wl2):\n",
    "            dp[0][j] = j\n",
    "\n",
    "    # 状态转移， 写入表格\n",
    "    for i in range(1, wl1):\n",
    "        for j in range(1, wl2):\n",
    "            if word1[i-1] == word2[j-1]: # 易错3： 因为前面多加了个空格\n",
    "                dp[i][j] = dp[i-1][j-1] # 如果相同的话，那么该子问题和上一个相同\n",
    "#                 dp[i][j] = min(dp[i-1][j-1], dp[i-1][j], dp[i][j-1]) # 易错4\n",
    "            else:\n",
    "                dp[i][j] = min(dp[i-1][j-1], dp[i-1][j], dp[i][j-1]) + 1\n",
    "    return dp[-1][-1]\n",
    "\n",
    "print(minDistance(\"pneumonoultramicroscopicsilicovolcanoconiosis\", \"ultramicroscopically\"))\n",
    "\n"
   ]
  },
  {
   "cell_type": "markdown",
   "metadata": {},
   "source": [
    "### 300. 最长上升子序列 : \n",
    " - 子序列（subsequence）：并不要求连续\n",
    " - 子 串（substring、subarray）：一定是连续的\n",
    " \n",
    " \n",
    " 状态（格子）： 以nums[i]结尾的“最长上升子序列”的长度\n",
    " 状态转移方程："
   ]
  },
  {
   "cell_type": "code",
   "execution_count": 40,
   "metadata": {},
   "outputs": [
    {
     "name": "stdout",
     "output_type": "stream",
     "text": [
      "[1, 1, 1, 2, 2, 3, 4, 4]\n"
     ]
    }
   ],
   "source": [
    "def lengthOfLIS(nums):\n",
    "    ll = len(nums)\n",
    "    max_len = 1\n",
    "    # 结束条件\n",
    "    if ll < 2:\n",
    "        return ll\n",
    "    # 初试化状态格子， 把该填的填上\n",
    "    dp = [ 1 for _ in range(ll)]  # dp每个位置都至少为1\n",
    "    \n",
    "    # 状态转移\n",
    "    for i in range(1, ll):\n",
    "        for j in range(0, i):\n",
    "            if(nums[j] < nums[i]): \n",
    "                dp[i] = max(dp[i], dp[j]+1)\n",
    "                \n",
    "    for i in range(ll):\n",
    "        if dp[i] > max_len:\n",
    "            max_len = dp[i]\n",
    "            \n",
    "    return max_len\n",
    "    \n",
    "    \n",
    "    \n",
    "    # \n",
    "lengthOfLIS([10,9,2,5,3,7,101,18])\n",
    "    \n",
    "# print(lengthOfLIS([10,9,2,5,3,7,101,18]))\n",
    "    "
   ]
  },
  {
   "cell_type": "markdown",
   "metadata": {},
   "source": [
    "### 1143. 最长公共子序列 （和5.回文数一样）   \n",
    "状态转移"
   ]
  },
  {
   "cell_type": "code",
   "execution_count": 44,
   "metadata": {},
   "outputs": [
    {
     "data": {
      "text/plain": [
       "3"
      ]
     },
     "execution_count": 44,
     "metadata": {},
     "output_type": "execute_result"
    }
   ],
   "source": [
    "def longestCommonSubsequence(text1: str, text2: str) -> int:\n",
    "    m = len(text1)\n",
    "    n = len(text2)\n",
    "    \n",
    "    # 边界条件\n",
    "    if not text1 or not text2:  # 如果有一个为空，返回空\n",
    "        return 0\n",
    "\n",
    "    # 定义格子并初始化\n",
    "    dp = [[0 for _ in range(n+1)] for _ in range(m+1)] # 还是要放多一位在前面\n",
    "\n",
    "    # 状态转移\n",
    "    for i in range(1, m+1):\n",
    "        for j in range(1, n+1):\n",
    "            if text1[i-1] == text2[j-1]: # 看最后一位相同不相同\n",
    "                dp[i][j] = dp[i-1][j-1] + 1\n",
    "            else:\n",
    "                dp[i][j] = max(dp[i-1][j], dp[i][j-1])\n",
    "    \n",
    "    return dp[m][n]\n",
    "\n",
    "        \n",
    "    # 打表格\n",
    "    \n",
    "\n",
    "longestCommonSubsequence(\"abcde\", \"ace\")"
   ]
  },
  {
   "cell_type": "markdown",
   "metadata": {},
   "source": [
    "### date: 2020.2.2\n",
    "----\n",
    "### 120. 三角形最小路径和  \n",
    "\n",
    "找从顶到底的最小路径和，寻找最优解，并且具有最优子结构\n",
    "- 1、首先先定义状态：\n",
    " d[i][j] : 表示包含第i行第j列元素的最小路径和\n",
    "- 3 、分析不能满足的特殊情况：  初始化  和处理特殊情况 和 处理边界： \n",
    "  - dp[0][0]只有一个数\n",
    "  - 边界： 最左边的元素dp[i][j]只能从 dp[i-1][j]来，最右边的元素只能从dp[i-1][j-1]来\n",
    "  - 第二行特殊\n",
    "- 2、状态移动方程：\n",
    "dp[i][j]怎么来？从头顶上两个元素移动而来\n",
    "dp[i][j] = min(dp[i-1][j-1], dp[i-1][j]) + triangle[i][j]\n",
    "\n"
   ]
  },
  {
   "cell_type": "code",
   "execution_count": 26,
   "metadata": {},
   "outputs": [
    {
     "name": "stdout",
     "output_type": "stream",
     "text": [
      "5 6\n",
      "m1: 11\n",
      "m2: 10\n",
      "m3: 13\n",
      "11 4\n",
      "m1: 15\n",
      "m2: 11\n",
      "m2: 18\n",
      "m3: 16\n",
      "[[2], [5, 6], [11, 10, 13], [15, 11, 18, 16]]\n",
      "11\n"
     ]
    }
   ],
   "source": [
    "def minimumTotal(triangle):    \n",
    "    # 1、先定义和初始化\n",
    "    dp = []\n",
    "    row = len(triangle)\n",
    "    \n",
    "    for i in range(row):\n",
    "        dp.append([])\n",
    "        for j in range(len(triangle[i])):\n",
    "            dp[i].append(0)\n",
    "            \n",
    "    # 2、边界和特殊情况\n",
    "    if row < 2:\n",
    "        dp[0][0] = triangle[0][0]\n",
    "        return dp[0][0]\n",
    "    elif row ==2:\n",
    "        dp[0][0] = triangle[0][0]\n",
    "        dp[1][0] = triangle[0][0] + triangle[1][0]\n",
    "        dp[1][1] = triangle[0][0] + triangle[1][1]\n",
    "        return min(dp[1][0], dp[1][1])\n",
    "    else:\n",
    "        dp[0][0] = triangle[0][0]\n",
    "        dp[1][0] = triangle[0][0] + triangle[1][0]\n",
    "        dp[1][1] = triangle[0][0] + triangle[1][1]\n",
    "        for i in range(2, row):\n",
    "            for j in range(len(dp[i])):\n",
    "                if j == 0:\n",
    "#                     print(dp[i-1][j], triangle[i][j])\n",
    "                    dp[i][j] = dp[i-1][j] + triangle[i][j]\n",
    "#                     print(\"m1:\", dp[i][j])\n",
    "                elif j > 0 and j < (len(dp[i]) - 1):\n",
    "                    dp[i][j] = min(dp[i-1][j-1], dp[i-1][j]) \\\n",
    "                    + triangle[i][j]\n",
    "#                     print(\"m2:\", dp[i][j])\n",
    "                else:\n",
    "                    dp[i][j] = dp[i-1][j-1] + triangle[i][j]\n",
    "#                     print(\"m3:\", dp[i][j])\n",
    "                    \n",
    "    min_num = 99999999\n",
    "#     print(dp)\n",
    "    for i in range(len(dp[-1])):\n",
    "        if dp[-1][i] < min_num:\n",
    "            min_num = dp[-1][i]\n",
    "            \n",
    "    return min_num\n",
    "            \n",
    "  \n",
    "\n",
    "print(minimumTotal([[2],[3,4],[6,5,7],[4,1,8,3]]))"
   ]
  },
  {
   "cell_type": "code",
   "execution_count": 6,
   "metadata": {},
   "outputs": [
    {
     "name": "stdout",
     "output_type": "stream",
     "text": [
      "[4, 1, 8, 3] 4\n",
      "11\n"
     ]
    }
   ],
   "source": [
    "# 其他答案， 简单多了\n",
    "def minimumTotal(triangle):\n",
    "    \"\"\"\n",
    "        1. dp问题: dp[i][j] = triangle[i][j] + min(dp[i+1][j], dp[i+1][j+1])\n",
    "    \"\"\"\n",
    "    mini, M = triangle[-1], len(triangle)\n",
    "    print(mini, M)\n",
    "    for i in range(M - 2, -1, -1):\n",
    "        for j in range(len(triangle[i])):\n",
    "            mini[j] = triangle[i][j] + min(mini[j], mini[j+1])\n",
    "    \n",
    "    return mini[0]\n",
    "\n",
    "print(minimumTotal([[2],[3,4],[6,5,7],[4,1,8,3]]))\n"
   ]
  },
  {
   "cell_type": "markdown",
   "metadata": {},
   "source": [
    "### 53. 最大子序和\n",
    "\n",
    "正数增益"
   ]
  },
  {
   "cell_type": "code",
   "execution_count": 29,
   "metadata": {},
   "outputs": [
    {
     "data": {
      "text/plain": [
       "6"
      ]
     },
     "execution_count": 29,
     "metadata": {},
     "output_type": "execute_result"
    }
   ],
   "source": [
    "def maxSubArray(nums):\n",
    "    \n",
    "    if len(nums) < 2:\n",
    "        return nums[0]\n",
    "    else:\n",
    "        res = nums[0]\n",
    "        sum1 = 0\n",
    "        for i in range(0, len(nums)):\n",
    "            # 如果前面和为整数，那么就连续，否则就当前的重新起\n",
    "            if sum1 > 0:\n",
    "                sum1 += nums[i]\n",
    "            else:\n",
    "                sum1 = nums[i]\n",
    "            res =  max(sum1, res)\n",
    "    return res\n",
    "    \n",
    "maxSubArray([-2,1,-3,4,-1,2,1,-5,4])"
   ]
  },
  {
   "cell_type": "markdown",
   "metadata": {},
   "source": [
    "## 团灭股票问题\n",
    "\n"
   ]
  },
  {
   "cell_type": "code",
   "execution_count": 43,
   "metadata": {},
   "outputs": [
    {
     "name": "stdout",
     "output_type": "stream",
     "text": [
      "0\n"
     ]
    }
   ],
   "source": [
    "## 121\n",
    "\n",
    "def maxProfit(prices):\n",
    "    pl = len(prices)\n",
    "    dp = [[0] * 2 for _ in range(pl)]\n",
    "    if pl < 2:\n",
    "        return 0\n",
    "    \n",
    "    for i in range(0, pl):\n",
    "        if i == 0:\n",
    "            dp[i][0] = 0\n",
    "            dp[i][1] = -prices[0]\n",
    "            continue\n",
    "        dp[i][0] = max(dp[i-1][0], dp[i-1][1]+prices[i])\n",
    "        dp[i][1] = dp[i-1][1]# 只有一次买卖的话如果已经买入了就不能再做操作了\n",
    "\n",
    "\n",
    "    return dp[pl-1][0]\n",
    "    \n",
    "    \n",
    "print(maxProfit([7,1,5,3,6,4]))"
   ]
  },
  {
   "cell_type": "code",
   "execution_count": 63,
   "metadata": {},
   "outputs": [
    {
     "name": "stdout",
     "output_type": "stream",
     "text": [
      "4\n"
     ]
    }
   ],
   "source": [
    "## 122\n",
    "\n",
    "def maxProfit(prices):\n",
    "    pl = len(prices)\n",
    "    dp = [[0] * 2 for _ in range(pl)]\n",
    "    if pl < 2:\n",
    "        return 0\n",
    "    \n",
    "    for i in range(0, pl):\n",
    "        if i == 0:\n",
    "            dp[i][0] = 0\n",
    "            dp[i][1] = -prices[0]\n",
    "            continue\n",
    "        dp[i][0] = max(dp[i-1][0], dp[i-1][1]+prices[i])\n",
    "        dp[i][1] = max(dp[i-1][1], dp[i-1][0]-prices[i])\n",
    "        # 有多次买卖的话则可以继续操作\n",
    "\n",
    "    return dp[pl-1][0]\n",
    "    \n",
    "    \n",
    "print(maxProfit([1,2,3,4,5]))"
   ]
  },
  {
   "cell_type": "code",
   "execution_count": 67,
   "metadata": {},
   "outputs": [
    {
     "name": "stdout",
     "output_type": "stream",
     "text": [
      "[[[0, 0], [0, -1], [0, -1]], [[0, 0], [1, -1], [1, -1]], [[0, 0], [2, -1], [2, -1]], [[0, 0], [3, -1], [3, -1]], [[0, 0], [4, -1], [4, -1]]]\n",
      "4\n"
     ]
    }
   ],
   "source": [
    "## 123\n",
    "def maxProfit(prices):\n",
    "    n = len(prices)\n",
    "    K = 2 # 目前最多卖出次数, 用到这个状态是因为，要计算dp[i-1][j-1][0] \n",
    "    \n",
    "    dp = [[[0] * 2 for _ in range(K+1)] for _ in range(n)]\n",
    "    if n < 2:\n",
    "        return 0\n",
    "\n",
    "    for i in range(0,n):\n",
    "        for j in range(1, K+1):\n",
    "            # 处理bad case\n",
    "            if i == 0:\n",
    "                dp[i][j][0] = 0\n",
    "                dp[i][j][1] = -prices[0] # 第一天买入就是持有\n",
    "                continue\n",
    "            # 转移方程\n",
    "            dp[i][j][0] = max(dp[i-1][j][0], dp[i-1][j][1] + prices[i])\n",
    "            dp[i][j][1] = max(dp[i-1][j][1], dp[i-1][j-1][0] - prices[i])\n",
    "\n",
    "    return dp[n-1][K][0]\n",
    "    \n",
    "    \n",
    "print(maxProfit([1,2,3,4,5]))\n"
   ]
  },
  {
   "cell_type": "code",
   "execution_count": 56,
   "metadata": {},
   "outputs": [
    {
     "name": "stdout",
     "output_type": "stream",
     "text": [
      "1\n"
     ]
    }
   ],
   "source": [
    "# 其他答案\n",
    "class Solution:\n",
    "    def maxProfit(self, prices):\n",
    "        if prices==[]:\n",
    "            return 0\n",
    "        length=len(prices)\n",
    "        #结束时的最高利润=[天数][是否持有股票][卖出次数]\n",
    "        dp=[ [[0,0,0],[0,0,0] ] for i in range(0,length) ]\n",
    "        #第一天休息\n",
    "        dp[0][0][0]=0\n",
    "        #第一天买入\n",
    "        dp[0][1][0]=-prices[0]\n",
    "        # 第一天不可能已经有卖出\n",
    "        dp[0][0][1] = float('-inf')\n",
    "        dp[0][0][2] = float('-inf')\n",
    "        #第一天不可能已经卖出\n",
    "        dp[0][1][1]=float('-inf')\n",
    "        dp[0][1][2]=float('-inf')\n",
    "        for i in range(1,length):\n",
    "            #未持股，未卖出过，说明从未进行过买卖\n",
    "            dp[i][0][0]=0\n",
    "            #未持股，卖出过1次，可能是今天卖的，可能是之前卖的\n",
    "            dp[i][0][1]=max(dp[i-1][1][0]+prices[i],dp[i-1][0][1])\n",
    "            #未持股，卖出过2次，可能是今天卖的，可能是之前卖的\n",
    "            dp[i][0][2]=max(dp[i-1][1][1]+prices[i],dp[i-1][0][2])\n",
    "            #持股，未卖出过，可能是今天买的，可能是之前买的\n",
    "            dp[i][1][0]=max(dp[i-1][0][0]-prices[i],dp[i-1][1][0])\n",
    "            #持股，卖出过1次，可能是今天买的，可能是之前买的\n",
    "            dp[i][1][1]=max(dp[i-1][0][1]-prices[i],dp[i-1][1][1])\n",
    "            #持股，卖出过2次，不可能\n",
    "            dp[i][1][2]=float('-inf')\n",
    "        return max(dp[length-1][0][1],dp[length-1][0][2],0)\n"
   ]
  },
  {
   "cell_type": "code",
   "execution_count": 69,
   "metadata": {},
   "outputs": [
    {
     "name": "stdout",
     "output_type": "stream",
     "text": [
      "7\n"
     ]
    }
   ],
   "source": [
    "## 188\n",
    "def maxProfit(prices, k):\n",
    "            n = len(prices)\n",
    "            K = k # 目前最多卖出次数, 用到这个状态是因为，要计算dp[i-1][j-1][0] \n",
    "            if n < 2:\n",
    "                    return 0\n",
    "            if (k < len(prices) // 2) :  # k 至多为天数的一半，因为两天才能完成一次交易一次\n",
    "\n",
    "                dp = [[[0] * 2 for _ in range(K+1)] for _ in range(n)]\n",
    "\n",
    "\n",
    "                for i in range(0,n):\n",
    "                    for j in range(1, K+1):\n",
    "                        # 处理bad case\n",
    "                        if i == 0:\n",
    "                            dp[i][j][0] = 0\n",
    "                            dp[i][j][1] = -prices[0] # 第一天买入就是持有\n",
    "                            continue\n",
    "                        # 转移方程\n",
    "                        dp[i][j][0] = max(dp[i-1][j][0], dp[i-1][j][1] + prices[i])\n",
    "                        dp[i][j][1] = max(dp[i-1][j][1], dp[i-1][j-1][0] - prices[i])\n",
    "\n",
    "                return dp[n-1][K][0]\n",
    "\n",
    "            else: # 如果超过限制了就当做是无限次交易\n",
    "                dp = [[0] * 2 for _ in range(n)]\n",
    "\n",
    "                for i in range(0, n):\n",
    "                    if i == 0:\n",
    "                        dp[i][0] = 0\n",
    "                        dp[i][1] = -prices[0]\n",
    "                        continue\n",
    "                    dp[i][0] = max(dp[i-1][0], dp[i-1][1]+prices[i])\n",
    "                    dp[i][1] = max(dp[i-1][1], dp[i-1][0]-prices[i])\n",
    "                    # 有多次买卖的话则可以继续操作\n",
    "\n",
    "                return dp[n-1][0]\n",
    "    \n",
    "print(maxProfit([3,2,6,5,0,3], 2))"
   ]
  },
  {
   "cell_type": "code",
   "execution_count": null,
   "metadata": {
    "collapsed": true
   },
   "outputs": [],
   "source": [
    "class Solution:\n",
    "    def maxProfit(self, k: int, prices: List[int]) -> int:\n",
    "        if len(prices) <= 1: return 0\n",
    "        if (k < len(prices) // 2) :\n",
    "            dp = [[-prices[0], 0] for i in range(k+1)]\n",
    "            for price in prices[1:]:\n",
    "                for i in range(1, k+1):\n",
    "                    dp[i] = [max(dp[i][0], dp[i-1][1]-price), max(dp[i][1], dp[i][0]+price)]\n",
    "            return dp[k][1]\n",
    "        else:\n",
    "            dp = [-prices[0], 0]\n",
    "            for price in prices[1:]:\n",
    "                dp = [max(dp[0], dp[1]-price), max(dp[1], dp[0]+price)]\n",
    "            return dp[1]\n"
   ]
  },
  {
   "cell_type": "code",
   "execution_count": 86,
   "metadata": {},
   "outputs": [
    {
     "name": "stdout",
     "output_type": "stream",
     "text": [
      "8\n"
     ]
    }
   ],
   "source": [
    "# 714. 买卖股票的最佳时机含手续费\n",
    "def maxProfit(prices, fee):\n",
    "    pl = len(prices)\n",
    "    dp = [[0] * 2 for _ in range(pl)]\n",
    "    if pl < 2:\n",
    "        return 0\n",
    "    \n",
    "    for i in range(0, pl):\n",
    "        if i == 0:\n",
    "            dp[i][0] = 0\n",
    "            dp[i][1] = -prices[0]\n",
    "            continue\n",
    "        dp[i][0] = max(dp[i-1][0], dp[i-1][1]+prices[i]-fee) #买入需要手续费\n",
    "        dp[i][1] = max(dp[i-1][1], dp[i-1][0]-prices[i]) # 卖出不用\n",
    "        # 有多次买卖的话则可以继续操作\n",
    "\n",
    "    return dp[pl-1][0]\n",
    "\n",
    "print(maxProfit([1, 3, 2, 8, 4, 9], 2))"
   ]
  },
  {
   "cell_type": "code",
   "execution_count": 78,
   "metadata": {},
   "outputs": [
    {
     "name": "stdout",
     "output_type": "stream",
     "text": [
      "[[0, 0], [0, 0], [0, 0], [0, 0], [0, 0]]\n",
      "3\n"
     ]
    }
   ],
   "source": [
    "# 309. 最佳买卖股票时机含冷冻期\n",
    "def maxProfit(prices):\n",
    "    n = len(prices)\n",
    "    if n < 2:\n",
    "        return 0\n",
    "    else:\n",
    "        dp = [[0, 0] for _ in range(n)]\n",
    "        print(dp)\n",
    "\n",
    "        dp[0][1] = -prices[0]\n",
    "        for i in range(1, n):\n",
    "            dp[i][0] = max(dp[i - 1][0], dp[i - 1][1] + prices[i])\n",
    "            dp[i][1] = max(dp[i - 1][1], dp[i - 2][0] - prices[i])\n",
    "            # 和 121， 122 只有这一行不同 \n",
    "\n",
    "        return dp[n-1][0]\n",
    "    \n",
    "print(maxProfit([1,2,3,0,2]))"
   ]
  },
  {
   "cell_type": "markdown",
   "metadata": {},
   "source": [
    "# 背包问题： \n",
    "- 0-1背包（416）， 背包里的物品最多可以选取一次（考虑当前物品用或者不用）\n",
    "- 完全背包问题（322,518）：背包里的物品可以无限次选取\n"
   ]
  },
  {
   "cell_type": "markdown",
   "metadata": {},
   "source": [
    "# 416  \n",
    "### 题目：\n",
    "给定一个只包含正整数的非空数组。是否可以将这个数组分割成两个子集，使得两个子集的元素和相等。\n",
    "  \n",
    "注意:  \n",
    "每个数组中的元素不会超过 100  \n",
    "数组的大小不会超过 200  \n",
    "\n",
    "## 解题思路：\n",
    "dp[i][j]  表示在前i个物品中，挑选一些物品，能够装满重量为j的背包"
   ]
  },
  {
   "cell_type": "code",
   "execution_count": 1,
   "metadata": {},
   "outputs": [
    {
     "name": "stdout",
     "output_type": "stream",
     "text": [
      "True\n"
     ]
    }
   ],
   "source": [
    "\n",
    "def canPartition(nums):\n",
    "    n=len(nums)\n",
    "    target=sum(nums)  # 是否能够使得两个背包的重量相同，就是一个背包是否能达到一半\n",
    "    # bad case\n",
    "    if(target%2!=0):\n",
    "        return False\n",
    "    if n < 2:\n",
    "        return False\n",
    "    \n",
    "    target//=2 # 取整，否则是float类型\n",
    "    \n",
    "    # 定义状态数组和初始化\n",
    "    dp = [[False]*(target+1) for _ in range(n)]\n",
    "    #print(dp)\n",
    "    \n",
    "    # 边界 or bad case\n",
    "    dp[0][0] = True\n",
    "    for i in range(1,target+1):\n",
    "        if(nums[0]==i): # 如果找到一件物品质量就满足目标，直接为true\n",
    "            dp[0][i]=True\n",
    "            break\n",
    "            \n",
    "    # 状态转移\n",
    "    for i in range(1,n):\n",
    "        for j in range(target+1):\n",
    "            if(j>=nums[i]): # 如果背包可装 重量 大于 当前物品，则可以继续装入\n",
    "                dp[i][j]=dp[i-1][j] or (dp[i-1][j-nums[i]])\n",
    "            else:\n",
    "                dp[i][j]=dp[i-1][j]\n",
    "    return dp[-1][-1]\n",
    "\n",
    "\n",
    "print(canPartition([1, 5, 11, 5]))"
   ]
  },
  {
   "cell_type": "markdown",
   "metadata": {},
   "source": [
    "# 322. 零钱兑换\n",
    "## 题目：\n",
    "给定不同面额的硬币 coins 和一个总金额 amount。  \n",
    "编写一个函数来计算可以凑成总金额所需的最少的硬币个数。  \n",
    "如果没有任何一种硬币组合能组成总金额，返回 -1。  \n",
    "## 解法：\n",
    "dp[]"
   ]
  },
  {
   "cell_type": "code",
   "execution_count": 6,
   "metadata": {},
   "outputs": [
    {
     "data": {
      "text/plain": [
       "3"
      ]
     },
     "execution_count": 6,
     "metadata": {},
     "output_type": "execute_result"
    }
   ],
   "source": [
    "# 递归解法：自顶向下 超时了\n",
    "def coinChange(coins, amount):\n",
    "    if amount == 0:\n",
    "        return 0\n",
    "    res = float('inf') # 无穷大\n",
    "    for i in coins:\n",
    "        # bad case: \n",
    "        if amount < i: # \n",
    "            continue\n",
    "        subPro = coinChange(coins, amount-i)\n",
    "        # 子问题无解\n",
    "        if subPro == -1:\n",
    "            continue\n",
    "        res = min(res, subPro +1) # 加一是表明用多一块币\n",
    "    \n",
    "    return res if(res != float(\"inf\")) else -1\n",
    "    \n",
    "    \n",
    "coinChange([1, 2, 5], 11)\n",
    "    "
   ]
  },
  {
   "cell_type": "code",
   "execution_count": 19,
   "metadata": {},
   "outputs": [
    {
     "data": {
      "text/plain": [
       "3"
      ]
     },
     "execution_count": 19,
     "metadata": {},
     "output_type": "execute_result"
    }
   ],
   "source": [
    "# 不超时的递归\n",
    "def coinChange(coins, amount):\n",
    "        memo={0:0}\n",
    "        def helper(n):   \n",
    "            if(n in memo): # 如果没有记录的就要执行下面，其实就是dp的一种\n",
    "                return memo[n]\n",
    "            res=float(\"inf\")\n",
    "            for coin in coins:\n",
    "                if(n>=coin):\n",
    "                    res=min(res,helper(n-coin)+1)\n",
    "            memo[n]=res\n",
    "            return res\n",
    "        return helper(amount) if(helper(amount)!=float(\"inf\")) else -1\n",
    "coinChange([1, 2, 5], 11)\n",
    "\n"
   ]
  },
  {
   "cell_type": "code",
   "execution_count": 18,
   "metadata": {},
   "outputs": [
    {
     "data": {
      "text/plain": [
       "4"
      ]
     },
     "execution_count": 18,
     "metadata": {},
     "output_type": "execute_result"
    }
   ],
   "source": [
    "# dp: 自下而上\n",
    "# dp[i] 保存金额i的最小组成数\n",
    "# 转移方程： dp[i] = \n",
    "def coinChange(coins, amount):\n",
    "    if not amount or not len(coins):\n",
    "        return 0\n",
    "    dp = [float('inf') for _ in range(amount+1)]\n",
    "    \n",
    "    dp[0] = 0\n",
    "    \n",
    "    for i in range(1, amount+1):\n",
    "        for coin in coins:\n",
    "            # bad case\n",
    "            if i >= coin: # 如果总数小于金额\n",
    "                # dp[i] 会根据不同的coin发生变化\n",
    "                dp[i] = min(dp[i], dp[i-coin] + 1) # 用这块币\n",
    "    return dp[-1] if(dp[-1] != float(\"inf\")) else -1\n",
    "    \n",
    "    \n",
    "coinChange([2, 5, 10, 1],27)"
   ]
  },
  {
   "cell_type": "markdown",
   "metadata": {},
   "source": [
    "# 518. 零钱兑换 II  \n",
    "## 题目：\n",
    "给定不同面额的硬币和一个总金额。写出函数来计算可以凑成总金额的硬币组合数。假设每一种面额的硬币有无限个。 \n",
    "有几种组合的方式\n",
    "## 题解：\n",
    "状态：\n",
    "dp[i] 凑出总金额i有多少种组合\n",
    "转移方程：\n"
   ]
  },
  {
   "cell_type": "code",
   "execution_count": 24,
   "metadata": {},
   "outputs": [
    {
     "name": "stdout",
     "output_type": "stream",
     "text": [
      "[1, 1, 2, 2, 3, 4]\n"
     ]
    },
    {
     "data": {
      "text/plain": [
       "4"
      ]
     },
     "execution_count": 24,
     "metadata": {},
     "output_type": "execute_result"
    }
   ],
   "source": [
    "# 大神思路： 难想,背下来\n",
    "def change(amount, coins):\n",
    "    dp = [0] * (amount + 1)\n",
    "    dp[0] = 1  # 使用coin 凑成coin的情况只有一种\n",
    "    for coin in coins: # 穷举所有种类的金额\n",
    "        # 只有1元的情况下\n",
    "        for i in range(coin, amount  + 1):\n",
    "            # 如果i == coin，那么dp[i - coin] == dp[0]代表的只是用coin凑出coin\n",
    "            dp[i] = dp[i]  + dp[i-coin] \n",
    "#凑成i 元的组合数 = 之前已有的组合数 dp[i]+这里使用coin来凑的话的组合数dp[i-coin]\n",
    "\n",
    "    return dp[amount]\n",
    "\n",
    "\n",
    "change(5, [1, 2, 5])"
   ]
  },
  {
   "cell_type": "markdown",
   "metadata": {},
   "source": [
    "## 打家劫舍： 198， 213 ， 337（树形dp）\n",
    "\n",
    "## 团灭思路 ： 就是选不选的问题\n",
    "https://leetcode-cn.com/problems/house-robber-ii/solution/tong-yong-si-lu-tuan-mie-da-jia-jie-she-wen-ti-by-/"
   ]
  },
  {
   "cell_type": "markdown",
   "metadata": {},
   "source": [
    "# 198. 打家劫舍\n",
    "## 题目\n",
    "你是一个专业的小偷，计划偷窃沿街的房屋。\n",
    "每间房内都藏有一定的现金，影响你偷窃的唯一制约因素就是相邻的房屋装有\n",
    "相互连通的防盗系统，如果两间相邻的房屋在同一晚上被小偷闯入，系统会自动报警。\n",
    "\n",
    "## 题解：\n"
   ]
  },
  {
   "cell_type": "code",
   "execution_count": 30,
   "metadata": {},
   "outputs": [
    {
     "data": {
      "text/plain": [
       "12"
      ]
     },
     "execution_count": 30,
     "metadata": {},
     "output_type": "execute_result"
    }
   ],
   "source": [
    "def rob(nums):\n",
    "    n = len(nums)\n",
    "    if n == 0:\n",
    "        return 0\n",
    "    elif n == 1:\n",
    "        return nums[0]\n",
    "    elif n == 2:\n",
    "        return max(nums[0], nums[1])\n",
    "    dp = [0]*n\n",
    "    \n",
    "    dp[0] = nums[0]\n",
    "    dp[1] = max(nums[0], nums[1])\n",
    "    for i in range(2, n):\n",
    "        dp[i] = max(dp[i-1], dp[i-2] + nums[i] )\n",
    "\n",
    "    return dp[n-1]\n",
    "    \n",
    "rob([2,7,9,3,1])"
   ]
  },
  {
   "cell_type": "markdown",
   "metadata": {},
   "source": [
    "# 213. 打家劫舍 II\n",
    "## 题目\n",
    "你是一个专业的小偷，计划偷窃沿街的房屋，每间房内都藏有一定的现金。\n",
    "这个地方所有的房屋都围成一圈，这意味着第一个房屋和最后一个房屋是紧挨着的。\n",
    "同时，相邻的房屋装有相互连通的防盗系统，如果两间相邻的房屋在同一晚上被小偷闯入，\n",
    "系统会自动报警。\n",
    "\n",
    "给定一个代表每个房屋存放金额的非负整数数组，计算你在不触动警报装置的情况下，\n",
    "能够偷窃到的最高金额。\n",
    "\n",
    "## 题解：\n",
    "环状排列意味着第一个房子和最后一个房子中只能选择一个偷窃，因此可以把此环状排列房间问题约化为两个单排排列房间子问题：\n"
   ]
  },
  {
   "cell_type": "code",
   "execution_count": 38,
   "metadata": {},
   "outputs": [
    {
     "name": "stdout",
     "output_type": "stream",
     "text": [
      "[2, 3]\n",
      "[2, 3]\n"
     ]
    },
    {
     "data": {
      "text/plain": [
       "3"
      ]
     },
     "execution_count": 38,
     "metadata": {},
     "output_type": "execute_result"
    }
   ],
   "source": [
    "# 拆成两个单排列房子问题\n",
    "def rob(nums):\n",
    "    n = len(nums)\n",
    "    if n == 0:\n",
    "        return 0\n",
    "    elif n == 1:\n",
    "        return nums[0]\n",
    "    elif n == 2:\n",
    "        return max(nums[0], nums[1])\n",
    "    dp1 = [0]*(n-1)# 取第一间房子就不能取最后一间房子\n",
    "    nums1 = nums[:-1]\n",
    "    #print(nums1)\n",
    "    \n",
    "    dp2 = [0]*(n-1) # 取最后一间房子就不能取第一间房子\n",
    "    nums2 = nums[1:]\n",
    "    nums2 = nums2[::-1]\n",
    "    #print(nums2)\n",
    "    \n",
    "    # 取第一间房子\n",
    "    dp1[0] = nums1[0]\n",
    "    dp1[1] = max(nums1[0], nums1[1])\n",
    "    for i in range(2, n-1):\n",
    "        dp1[i] = max(dp1[i-1], dp1[i-2] + nums1[i] )\n",
    "        \n",
    "    dp2[0] = nums2[0]\n",
    "    dp2[1] = max(nums2[0], nums2[1])\n",
    "    for i in range(2, n-1):\n",
    "        dp2[i] = max(dp2[i-1], dp2[i-2] + nums2[i] )\n",
    "\n",
    "    return max(dp1[n-2], dp2[n-2])\n",
    "    \n",
    "rob([2,3,2])"
   ]
  },
  {
   "cell_type": "code",
   "execution_count": 41,
   "metadata": {},
   "outputs": [
    {
     "data": {
      "text/plain": [
       "3"
      ]
     },
     "execution_count": 41,
     "metadata": {},
     "output_type": "execute_result"
    }
   ],
   "source": [
    "# 改进， ， 重复的部分用函数包起来\n",
    "\n",
    "def rob(nums):\n",
    "    n = len(nums)\n",
    "    if n == 0:\n",
    "        return 0\n",
    "    elif n == 1:\n",
    "        return nums[0]\n",
    "    elif n == 2:\n",
    "        return max(nums[0], nums[1])\n",
    "    \n",
    "    return max(robRange(nums, 0, n-2), robRange(nums, 1, n-1))\n",
    "    \n",
    "    \n",
    "\n",
    "def robRange(nums, start, end):\n",
    "    n = len(nums)\n",
    "    \n",
    "    dp = [0]*(n-1)# 取第一间房子就不能取最后一间房子\n",
    "    nums = nums[start:end+1]\n",
    "    \n",
    "    \n",
    "    # 取第一间房子\n",
    "    dp[0] = nums[0]\n",
    "    dp[1] = max(nums[0], nums[1])\n",
    "    for i in range(2, n-1):\n",
    "        dp[i] = max(dp[i-1], dp[i-2] + nums[i] )\n",
    "\n",
    "    return dp[n-2]\n",
    "    \n",
    "rob([2,3,2])"
   ]
  },
  {
   "cell_type": "markdown",
   "metadata": {},
   "source": [
    "# 337. 打家劫舍 III\n",
    "\n",
    "## 题目\n",
    "在上次打劫完一条街道之后和一圈房屋后，小偷又发现了一个新的可行窃的地区。\n",
    "这个地区只有一个入口，我们称之为“根”。 除了“根”之外，每栋房子有且只有一个“父“房子\n",
    "与之相连。一番侦察之后，聪明的小偷意识到“这个地方的所有房屋的排列类似于一棵二叉树”。 如果两个直接相连的房子在同一天晚上被打劫，房屋将自动报警。\n",
    "\n",
    "计算在不触动警报的情况下，小偷一晚能够盗取的最高金额。\n",
    "\n",
    "## 题解：\n",
    "变成了 **树dp**\n"
   ]
  },
  {
   "cell_type": "code",
   "execution_count": null,
   "metadata": {
    "collapsed": true
   },
   "outputs": [],
   "source": [
    "# Definition for a binary tree node.\n",
    "# class TreeNode:\n",
    "#     def __init__(self, x):\n",
    "#         self.val = x\n",
    "#         self.left = None\n",
    "#         self.right = None\n",
    "\n",
    "class Solution:\n",
    "    def dp(self , cur : TreeNode) -> List[int] :\n",
    "        if not cur :\n",
    "            return [0,0]\n",
    "        \n",
    "        l = self.dp(cur.left)  # 左树的\n",
    "        r = self.dp(cur.right)\n",
    "        \n",
    "        return [max(l)+max(r),cur.val+l[0]+r[0]]\n",
    "    # 返回抢root 和不抢root 这种情况下能得到的最大钱数\n",
    "    \n",
    "    def rob(self, root: TreeNode) -> int:\n",
    "        return max(self.dp(root))"
   ]
  },
  {
   "cell_type": "markdown",
   "metadata": {
    "collapsed": true
   },
   "source": [
    "# 887. 鸡蛋掉落\n",
    "你将获得 K 个鸡蛋，并可以使用一栋从 1 到 N  共有 N 层楼的建筑。\n",
    "\n",
    "每个蛋的功能都是一样的，如果一个蛋碎了，你就不能再把它掉下去。\n",
    "\n",
    "你知道存在楼层 F ，满足 0 <= F <= N 任何从高于 F 的楼层落下的鸡蛋都会碎，从 F 楼层或比它低的楼层落下的鸡蛋都不会破。\n",
    "\n",
    "每次移动，你可以取一个鸡蛋（如果你有完整的鸡蛋）并把它从任一楼层 X 扔下（满足 1 <= X <= N）。\n",
    "\n",
    "你的目标是确切地知道 F 的值是多少。\n",
    "\n",
    "无论 F 的初始值如何，你确定 F 的值的最小移动次数是多少？"
   ]
  },
  {
   "cell_type": "code",
   "execution_count": 29,
   "metadata": {},
   "outputs": [
    {
     "name": "stdout",
     "output_type": "stream",
     "text": [
      "[[0, 0, 0, 0, 0, 0, 0], [0, 1, 2, 3, 4, 5, 6], [0, 0, 0, 0, 0, 0, 1]]\n",
      "1\n"
     ]
    }
   ],
   "source": [
    " # 错误 ： 状态定义错误\n",
    "def superEggDrop(K, N):\n",
    "        # 3.\n",
    "        if K == 1:\n",
    "            return N\n",
    "        if N == 0:\n",
    "            return 0\n",
    "        # 1.状态：dp[K][N], 在第x层扔， 碎的话 = dp[K-1][x-1]，\n",
    "        # 不碎的话 = dp[K][N-x] （就是前x层都无用，检测N-x 层就行了），\n",
    "        # 两种可能选最坏的可能\n",
    "        dp = [[0] * (N+1) for _ in range(K+1)]\n",
    "        #print(dp)\n",
    "        # 边界\n",
    "        for i in range(0,N+1):\n",
    "            dp[1][i] = i # 1个鸡蛋\n",
    "        for j in range(0,K+1):\n",
    "            dp[j][0] = 0 # 0层\n",
    "        res = float('INF')\n",
    "        for n in range(1, N+1):  # 找遍n层\n",
    "#             res = float('INF')\n",
    "            for k in range(2, K+1):\n",
    "                res = min(res, max(dp[K-1][n-1], dp[K][N-n])+1)\n",
    "        dp[K][N] = res\n",
    "                \n",
    "        print(dp)\n",
    "        return dp[K][N]\n",
    "        \n",
    "\n",
    "print(superEggDrop(2, 6))"
   ]
  },
  {
   "cell_type": "code",
   "execution_count": 30,
   "metadata": {},
   "outputs": [
    {
     "name": "stdout",
     "output_type": "stream",
     "text": [
      "4\n"
     ]
    }
   ],
   "source": [
    "# dp[k][step] 来表示在给定 k 个鸡蛋的前提下移动 step 步能确定的最大层数。  \n",
    "def superEggDrop(K, N):\n",
    "        dp = [[0] * (N+1) for _ in range(K+1)]\n",
    "\n",
    "        for step in range(1, N+1):  # n层\n",
    "            dp[0][step] = 0 # 0 个鸡蛋不用试，一层都确定不了\n",
    "            for k in range(1, K+1):\n",
    "            # 当前情况=\n",
    "            # (碎了，消耗一步能确定的层数)  能确定在下面\n",
    "            # +(没碎，消耗一步能确定的层数) 能确定在上面\n",
    "            # +当前这一层  ： 检查当前层\n",
    "                dp[k][step] = dp[k][step-1] + dp[k-1][step-1] + 1 \n",
    "                if dp[k][step] >= N:\n",
    "                    return step\n",
    "        return N\n",
    "print(superEggDrop(3, 14))\n"
   ]
  },
  {
   "cell_type": "code",
   "execution_count": 28,
   "metadata": {},
   "outputs": [
    {
     "name": "stdout",
     "output_type": "stream",
     "text": [
      "4\n"
     ]
    }
   ],
   "source": [
    "# 递归\n",
    "def superEggDrop(K: int, N: int):\n",
    "    memo = dict()\n",
    "    def dp(K, N) -> int:\n",
    "        # base case\n",
    "        if K == 1: return N\n",
    "        if N == 0: return 0\n",
    "        # 避免重复计算\n",
    "        if (K, N) in memo:\n",
    "            return memo[(K, N)]\n",
    "\n",
    "        res = float('INF')\n",
    "        # 穷举所有可能的选择\n",
    "        for i in range(1, N + 1):\n",
    "            res = min(res, \n",
    "                      max(\n",
    "                            dp(K, N - i), \n",
    "                            dp(K - 1, i - 1)\n",
    "                         ) + 1\n",
    "                  )\n",
    "        # 记入备忘录\n",
    "        memo[(K, N)] = res\n",
    "#         print(memo)\n",
    "        return res\n",
    "#     print(memo)\n",
    "    return dp(K, N)\n",
    "print(superEggDrop(3, 14))"
   ]
  },
  {
   "cell_type": "markdown",
   "metadata": {
    "collapsed": true
   },
   "source": [
    "# 走格子问题总结"
   ]
  },
  {
   "cell_type": "code",
   "execution_count": 8,
   "metadata": {},
   "outputs": [
    {
     "name": "stdout",
     "output_type": "stream",
     "text": [
      "[[0, 0, 0, 0], [0, 0, 0, 0], [0, 0, 0, 0], [0, 0, 0, 0], [0, 0, 0, 0], [0, 0, 0, 0], [0, 0, 0, 0], [0, 0, 0, 0], [0, 0, 0, 0], [0, 0, 0, 0], [0, 0, 0, 0]]\n",
      "0 1\n",
      "0 2\n",
      "0 3\n",
      "196\n"
     ]
    }
   ],
   "source": [
    "def countWays(m, x, y):\n",
    "        # write code here\n",
    "            # \n",
    "        dp = [[0]*y for _ in range(x)]  # 易错：先乘列，再乘行 \n",
    "        print(dp)\n",
    "        for i in range(0, x):\n",
    "            for j in range(0, y):\n",
    "                if m[i][j] != 1: dp[i][j] = 0  # 先把障碍标出来\n",
    "                elif i == 0 and j == 0: # 如果是起点\n",
    "                    dp[i][j] = 1\n",
    "                elif i == 0 and j != 0: # 如果是第一行就只能往右走\n",
    "                    print(i, j)\n",
    "                    dp[i][j] = dp[i][j-1]\n",
    "                elif i != 0 and j == 0:  # 如果是第一列就只能往下走\n",
    "                    dp[i][j] = dp[i-1][j]\n",
    "                else: # 其他情况下\n",
    "                    dp[i][j] = (dp[i-1][j] + dp[i][j-1])%1000000007\n",
    "        return dp[x-1][y-1]\n",
    "\n",
    "m = [[1,1,1,1],[1,1,1,1],[1,1,1,1],[1,1,1,1],[1,1,1,1],[1,1,1,1],[1,1,1,1],[1,0,1,1],[0,1,1,1],[1,1,1,1],[1,1,1,1]]\n",
    "x,y = 11,4\n",
    "print(countWays(m, x, y))\n",
    "\n",
    "\n",
    "# 时间复杂度是 O（N2）"
   ]
  },
  {
   "cell_type": "code",
   "execution_count": null,
   "metadata": {
    "collapsed": true
   },
   "outputs": [],
   "source": [
    "# "
   ]
  }
 ],
 "metadata": {
  "kernelspec": {
   "display_name": "Python 3",
   "language": "python",
   "name": "python3"
  },
  "language_info": {
   "codemirror_mode": {
    "name": "ipython",
    "version": 3
   },
   "file_extension": ".py",
   "mimetype": "text/x-python",
   "name": "python",
   "nbconvert_exporter": "python",
   "pygments_lexer": "ipython3",
   "version": "3.6.9"
  }
 },
 "nbformat": 4,
 "nbformat_minor": 2
}
