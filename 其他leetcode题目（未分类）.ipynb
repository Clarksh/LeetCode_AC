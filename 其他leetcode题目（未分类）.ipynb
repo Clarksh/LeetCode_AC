{
 "cells": [
  {
   "cell_type": "code",
   "execution_count": null,
   "metadata": {
    "collapsed": true
   },
   "outputs": [],
   "source": [
    "'''\n",
    "20. Valid Parentheses\n",
    "'''\n",
    "\n",
    "\n",
    "# 方法一：\n",
    "def isValid(s: str) -> bool:\n",
    "        while '()' in s or '[]' in s or '{}' in s:\n",
    "            s = s.replace('()','')\n",
    "            s = s.replace('{}','')\n",
    "            s = s.replace('[]','')\n",
    "        return s==''\n",
    "    \n",
    "#方法二：用栈思想\n",
    "#左符号入栈，碰到对应的右符号就出栈\n",
    "def isValid1(s: str)-> bool:\n",
    "        stack = []\n",
    "        p_dict = {'(':')','[':']','{':'}'}\n",
    "        left = p_dict.keys()\n",
    "        right = p_dict.values()\n",
    "        #print(left,right)\n",
    "        for i in s:\n",
    "            #如果是左符号压入栈\n",
    "            if i in left:\n",
    "                #print('1111')\n",
    "                stack.append(i)\n",
    "            #如果是右符号，则判断是否栈顶为对应的左符号\n",
    "            if i in right:\n",
    "                #print('2222')\n",
    "                if stack:\n",
    "                    if p_dict[stack[-1]] == i:\n",
    "                        #print(i)\n",
    "                        stack.pop()\n",
    "                    else:\n",
    "                        return False\n",
    "                else:\n",
    "                    return False\n",
    "        return len(stack) == 0\n",
    "            \n",
    "print(isValid1('{}([]){}[]{{{[]}}}'))"
   ]
  },
  {
   "cell_type": "code",
   "execution_count": 4,
   "metadata": {},
   "outputs": [
    {
     "name": "stdout",
     "output_type": "stream",
     "text": [
      "65\n",
      "[9, 63, 53, 45, 17, 32, 65, 78, 87]\n"
     ]
    }
   ],
   "source": [
    "# 调整堆\n",
    "def adjust_heap(lists, i, size):#以i为根节点开始调整成以i为根节点的最大堆\n",
    "    lchild = 2 * i + 1#堆是完全二叉树，可求左右子树\n",
    "    rchild = 2 * i + 2\n",
    "    max = i\n",
    "    if i < size / 2:#完全二叉树的分支节点（就是有叶子节点的）小于等了size/2\n",
    "        if lchild < size and lists[lchild] > lists[max]:\n",
    "            max = lchild\n",
    "        if rchild < size and lists[rchild] > lists[max]:\n",
    "            max = rchild\n",
    "        if max != i:#如果根节点不是最大就调换位置\n",
    "            lists[max], lists[i] = lists[i], lists[max]\n",
    "            adjust_heap(lists, max, size)#然后以max为根节点进行调整\n",
    "\n",
    "# 创建堆\n",
    "def build_heap(lists, size):#从下往上构建堆\n",
    "    for i in range(0, int(size/2))[::-1]:\n",
    "        adjust_heap(lists, i, size)\n",
    "\n",
    "# 堆排序\n",
    "def heap_sort(lists,k):\n",
    "    size = len(lists)\n",
    "    build_heap(lists, size)#先创建堆\n",
    "    count = 0\n",
    "    for i in range(0, size)[::-1]:#i从size-1到1\n",
    "        lists[0], lists[i] = lists[i], lists[0]#交换堆顶和堆底\n",
    "        count += 1 #获得一个最大值加1\n",
    "        if count == k:\n",
    "            print(lists[i])\n",
    "            return lists\n",
    "        adjust_heap(lists, 0, i)#把剩下的重新排\n",
    "#     return lists\n",
    "\n",
    "riginLists=[87,45,78,32,17,65,53,9,63]\n",
    "orderLists=heap_sort(riginLists,3)\n",
    "print(orderLists)"
   ]
  },
  {
   "cell_type": "markdown",
   "metadata": {
    "collapsed": true
   },
   "source": [
    "## 23. 合并K个排序链表"
   ]
  },
  {
   "cell_type": "code",
   "execution_count": null,
   "metadata": {
    "collapsed": true
   },
   "outputs": [],
   "source": [
    "class ListNode:\n",
    "    def __init__(self, x):\n",
    "        self.val = x\n",
    "        self.next = None\n",
    "\n",
    "class Solution:\n",
    "    def mergeKLists(self, lists: List[ListNode]) -> ListNode:\n",
    "        "
   ]
  },
  {
   "cell_type": "code",
   "execution_count": null,
   "metadata": {
    "collapsed": true
   },
   "outputs": [],
   "source": [
    "class ListNode:\n",
    "    def __init__(self, x):\n",
    "        self.val = x\n",
    "        self.next = None\n",
    "\n",
    "class Solution:\n",
    "    def mergeKLists(self, lists) -> ListNode:\n",
    "        if not lists:return \n",
    "        n = len(lists)\n",
    "        return self.merge(lists, 0, n-1)\n",
    "    def merge(self,lists, left, right):\n",
    "        if left == right:\n",
    "            return lists[left]\n",
    "        mid = left + (right - left) // 2\n",
    "        l1 = self.merge(lists, left, mid)\n",
    "        l2 = self.merge(lists, mid+1, right)\n",
    "        return self.mergeTwoLists(l1, l2)\n",
    "    def mergeTwoLists(self,l1, l2):\n",
    "        if not l1:return l2\n",
    "        if not l2:return l1\n",
    "        if l1.val < l2.val:\n",
    "            l1.next = self.mergeTwoLists(l1.next, l2)\n",
    "            return l1\n",
    "        else:\n",
    "            l2.next = self.mergeTwoLists(l1, l2.next)\n",
    "            return l2\n",
    "        \n",
    "mergeKLists([1->4->5,1->3->4,2->6])"
   ]
  },
  {
   "cell_type": "code",
   "execution_count": null,
   "metadata": {
    "collapsed": true
   },
   "outputs": [],
   "source": [
    "def merge2Lists(left, right):#将两个有序链表合成一个有序链表\n",
    "    i, j = 0, 0\n",
    "    result = []\n",
    "    while i < len(left) and j < len(right):\n",
    "        if left[i] <= right[j]:\n",
    "            result.append(left[i])\n",
    "            i += 1\n",
    "        else:\n",
    "            result.append(right[j])\n",
    "            j += 1\n",
    "    result += left[i:]\n",
    "    result += right[j:]\n",
    "    return result\n",
    "\n",
    "def mergeKLists(lists): #-> ListNode:\n",
    "    if not lists:return \n",
    "    num = len(lists)#遍历数组，看有多少有序链表\n",
    "    if num == 1:\n",
    "        return lists[0]\n",
    "    mid =  int(num/2)\n",
    "    left = mergeKLists(lists[:mid])\n",
    "    right = mergeKLists(lists[mid:])\n",
    "    return merge2Lists(left,right)\n",
    "    #return merge(lists, 0, n-1)\n",
    "\n",
    "test =  [[1,4,5],[1,3,4],[2,6]]\n",
    "print(mergeKLists(test))\n",
    "    \n"
   ]
  },
  {
   "cell_type": "markdown",
   "metadata": {
    "collapsed": true
   },
   "source": [
    "### 122. 买卖股票的最佳时机 II"
   ]
  },
  {
   "cell_type": "code",
   "execution_count": null,
   "metadata": {
    "collapsed": true
   },
   "outputs": [],
   "source": [
    "def maxProfit(self, prices: List[int]) -> int:\n",
    "    #\n",
    "    profit = 0\n",
    "    for i in range(1,len(prices)):\n",
    "        if prices[i] > prices[i-1]:\n",
    "            profit += prices[i]-prices[i-1]\n",
    "    return profit\n",
    "    "
   ]
  },
  {
   "cell_type": "code",
   "execution_count": null,
   "metadata": {
    "collapsed": true
   },
   "outputs": [],
   "source": [
    "[1]+[2]"
   ]
  },
  {
   "cell_type": "markdown",
   "metadata": {},
   "source": [
    "### 136. 只出现一次的数字"
   ]
  },
  {
   "cell_type": "code",
   "execution_count": null,
   "metadata": {
    "collapsed": true
   },
   "outputs": [],
   "source": [
    "def singleNumber(nums):\n",
    "    nums_set = set(nums) #去重\n",
    "    nums_dict = {}\n",
    "    for i in nums_set:#初始化计数器\n",
    "        nums_dict.update({i:0})\n",
    "#     print(nums_dict)\n",
    "    for j in nums:\n",
    "        nums_dict[j] += 1\n",
    "#     print(nums_dict)\n",
    "    for j in nums_set:\n",
    "        if nums_dict[j] == 1 :\n",
    "            print(j)\n",
    "    \n",
    "singleNumber([1,1,2])"
   ]
  },
  {
   "cell_type": "markdown",
   "metadata": {
    "collapsed": true
   },
   "source": [
    "169 求众数   \n",
    "给定一个大小为 n 的数组，找到其中的众数。众数是指在数组中出现次数大于 ⌊ n/2 ⌋ 的元素。  \n",
    "你可以假设数组是非空的，并且给定的数组总是存在众数。  \n",
    "输入: [3,2,3]  \n",
    "输出: 3  \n",
    "示例 2:  \n",
    "输入: [2,2,1,1,1,2,2]  \n",
    "输出: 2  "
   ]
  },
  {
   "cell_type": "code",
   "execution_count": null,
   "metadata": {
    "collapsed": true
   },
   "outputs": [],
   "source": [
    "def majorityElement(nums):\n",
    "    nums_set = set(nums) #去重\n",
    "    nums_dict = {}\n",
    "    maj = len(nums)/2\n",
    "    for i in nums_set:#初始化计数器\n",
    "        nums_dict.update({i:0})\n",
    "#     print(nums_dict)\n",
    "    for j in nums:\n",
    "        nums_dict[j] += 1\n",
    "#     print(nums_dict)\n",
    "    for j in nums_set:\n",
    "        if nums_dict[j] > maj :\n",
    "#             print(j)\n",
    "            return j\n",
    "    \n",
    "majorityElement([1,1,2])"
   ]
  },
  {
   "cell_type": "code",
   "execution_count": null,
   "metadata": {
    "collapsed": true
   },
   "outputs": [],
   "source": [
    "import numpy as np\n",
    "a = [1,2,3]\n",
    "print(a[0:-1])\n",
    "xy = np.array([[1,2],[3,4]])\n",
    "print(xy[:,0:-1])"
   ]
  },
  {
   "cell_type": "markdown",
   "metadata": {
    "collapsed": true
   },
   "source": [
    "### 231.2的幂  \n",
    "给定一个整数，编写一个函数来判断它是否是 2 的幂次方。"
   ]
  },
  {
   "cell_type": "code",
   "execution_count": null,
   "metadata": {
    "collapsed": true
   },
   "outputs": [],
   "source": [
    " def isPowerOfTwo(n):\n",
    "        while(n % 2 == 0):\n",
    "            n = n //2\n",
    "        if n == 1:\n",
    "            return True\n",
    "        else:\n",
    "            return False\n",
    "            "
   ]
  },
  {
   "cell_type": "code",
   "execution_count": null,
   "metadata": {
    "collapsed": true
   },
   "outputs": [],
   "source": [
    "n =2\n",
    "# n /= 2\n",
    "n & 2"
   ]
  },
  {
   "cell_type": "code",
   "execution_count": null,
   "metadata": {
    "collapsed": true
   },
   "outputs": [],
   "source": [
    "class Solution:\n",
    "    def isPowerOfTwo(self, n: int) -> bool:\n",
    "        if n<=0: return False\n",
    "        while n>1:\n",
    "            if n%2 == 0:\n",
    "                n //= 2\n",
    "            else:\n",
    "                return False\n",
    "        return True \n",
    "    "
   ]
  },
  {
   "cell_type": "code",
   "execution_count": null,
   "metadata": {
    "collapsed": true
   },
   "outputs": [],
   "source": [
    " def isPowerOfTwo(n):\n",
    "        return n > 0 and n&(n-1)==0\n",
    "isPowerOfTwo(16)"
   ]
  },
  {
   "cell_type": "code",
   "execution_count": null,
   "metadata": {
    "collapsed": true
   },
   "outputs": [],
   "source": []
  }
 ],
 "metadata": {
  "anaconda-cloud": {},
  "kernelspec": {
   "display_name": "Python 3",
   "language": "python",
   "name": "python3"
  },
  "language_info": {
   "codemirror_mode": {
    "name": "ipython",
    "version": 3
   },
   "file_extension": ".py",
   "mimetype": "text/x-python",
   "name": "python",
   "nbconvert_exporter": "python",
   "pygments_lexer": "ipython3",
   "version": "3.6.9"
  }
 },
 "nbformat": 4,
 "nbformat_minor": 1
}
