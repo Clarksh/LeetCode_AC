{
 "cells": [
  {
   "cell_type": "markdown",
   "metadata": {},
   "source": [
    "# 二分查找"
   ]
  },
  {
   "cell_type": "code",
   "execution_count": 8,
   "metadata": {},
   "outputs": [
    {
     "name": "stdout",
     "output_type": "stream",
     "text": [
      "True\n",
      "False\n"
     ]
    }
   ],
   "source": [
    "# 二分查找\n",
    "# 非递归：\n",
    "def binary_search_2(l, item):\n",
    "    size = len(l)\n",
    "    start = 0\n",
    "    end = size - 1\n",
    "    \n",
    "    while start <= end:\n",
    "        mid = (start+end)//2 # 向下取整\n",
    "        if l[mid] == item:\n",
    "            return True\n",
    "        elif l[mid] < item:\n",
    "            start = mid + 1\n",
    "        else:\n",
    "            end = mid - 1\n",
    "    return False\n",
    "\n",
    "# 递归\n",
    "def binary_search_2(l, item):\n",
    "    size = len(l)\n",
    "    if 0 == size:\n",
    "        return False\n",
    "    mid = size // 2\n",
    "    if l[mid] == item:\n",
    "        return True\n",
    "    elif item < l[mid]:\n",
    "        return binary_search_2(l[:mid], item)\n",
    "    else:\n",
    "        return binary_search_2(l[mid+1:], item)\n",
    "\n",
    "li = [17, 20, 26, 31, 44, 54, 55, 77, 93]\n",
    "print(binary_search_2(li, 55))\n",
    "print(binary_search_2(li, 100))\n"
   ]
  },
  {
   "cell_type": "markdown",
   "metadata": {},
   "source": [
    "\n",
    "##  33 搜索旋转排序数组"
   ]
  },
  {
   "cell_type": "code",
   "execution_count": 5,
   "metadata": {},
   "outputs": [
    {
     "name": "stdout",
     "output_type": "stream",
     "text": [
      "2\n"
     ]
    }
   ],
   "source": [
    "# 难，跳过"
   ]
  },
  {
   "cell_type": "markdown",
   "metadata": {},
   "source": [
    "# 树问题"
   ]
  },
  {
   "cell_type": "markdown",
   "metadata": {},
   "source": [
    "## 非递归解法"
   ]
  },
  {
   "cell_type": "code",
   "execution_count": null,
   "metadata": {
    "collapsed": true
   },
   "outputs": [],
   "source": [
    "# 前序遍历\n",
    "def front(self, root):\n",
    "    if not root:\n",
    "        return\n",
    "    myStack = []# 用来存根节点\n",
    "    while myStack or node:\n",
    "        while node:\n",
    "            myStack.append(node)\n",
    "            print(node.elem)\n",
    "            node = node.lchild\n",
    "        node = myStack.pop()\n",
    "        node = node.rchild\n",
    "        \n",
    "# 中序遍历: 左子树， 根，右子树\n",
    "def middle(self, root):\n",
    "    if not root:\n",
    "        return\n",
    "    myStack = []# 用来存根节点\n",
    "    while myStack or node:\n",
    "        while node:\n",
    "            myStack.append(node)\n",
    "            node = node.lchild\n",
    "        node = myStack.pop()\n",
    "        print(node.elem)\n",
    "        node = node.rchild\n",
    "        \n",
    "# 后序遍历,转化为和先序一样:\n",
    "def post(self, root):\n",
    "    if not root:\n",
    "        return\n",
    "    myStack1 = [] # 用来遍历的\n",
    "    myStack2 = [] # 用来存结果的用来逆序输出\n",
    "    while myStack1 or node:\n",
    "        while node:\n",
    "            myStack2.append(node)\n",
    "            myStack1.append(node)\n",
    "            node = node.right # 要和 先序反着来\n",
    "        node = myStack1.pop()\n",
    "        node = node.left\n",
    "    while myStack2:\n",
    "        print(myStack2.pop().elem)\n",
    "\n",
    "# 层序遍历\n",
    "def level_order_queue(self,root):\n",
    "    if not root:\n",
    "        return\n",
    "    myQue = []\n",
    "    node = root \n",
    "    myQue.append(node)\n",
    "    while myQue: # 先进先出\n",
    "        node = myQue.pop(0) # 出一个就把他的左右节点放入\n",
    "        print(node.data)\n",
    "        if node.left:\n",
    "            myQue.append(node.left)\n",
    "        if node.right:\n",
    "            myQue.append(node.right)"
   ]
  },
  {
   "cell_type": "markdown",
   "metadata": {},
   "source": [
    "# 排序算法"
   ]
  },
  {
   "cell_type": "code",
   "execution_count": 10,
   "metadata": {},
   "outputs": [
    {
     "name": "stdout",
     "output_type": "stream",
     "text": [
      "[9, 17, 32, 45, 53, 63, 65, 78, 87]\n"
     ]
    }
   ],
   "source": [
    "# 快排\n",
    "def quick_sort(lists, left, right ):\n",
    "    if left >= right:\n",
    "        return list\n",
    "    key = lists[left]\n",
    "    low = left # 记录每次迭代的首尾\n",
    "    high = right\n",
    "    while left < right:\n",
    "        while left < right and lists[right] >= key:\n",
    "            right -= 1\n",
    "        lists[left] = lists[right]\n",
    "        while left < right and lists[left] <= key:\n",
    "            left += 1\n",
    "        lists[right] = lists[left]        \n",
    "    lists[right] = key\n",
    "    quick_sort(lists, low, right-1)\n",
    "    quick_sort(lists, right + 1, high)\n",
    "    return lists\n",
    "riginLists=[87,45,78,32,17,65,53,9,63]\n",
    "orderLists=quick_sort(riginLists,0,len(riginLists)-1)\n",
    "print(orderLists)"
   ]
  },
  {
   "cell_type": "code",
   "execution_count": 36,
   "metadata": {},
   "outputs": [
    {
     "name": "stdout",
     "output_type": "stream",
     "text": [
      "[9, 17, 32, 45, 53, 63, 65, 78, 87]\n"
     ]
    }
   ],
   "source": [
    "# 归并\n",
    "\n",
    "# def merge_sort(lists):\n",
    "#     if len(lists) <= 1:\n",
    "#         return lists\n",
    "#     num = int(len(lists)/2)\n",
    "#     left = merge_sort(lists[:num])\n",
    "#     right = merge_sort(lists[num:])\n",
    "#     return merge(left, right)\n",
    "\n",
    "def merge_sort(lists):\n",
    "    # 归并排序\n",
    "    if len(lists) <= 1:#输入判定\n",
    "        return lists\n",
    "    num = int(len(lists)/2)\n",
    "    left = merge_sort(lists[:num])\n",
    "    right = merge_sort(lists[num:])\n",
    "    return merge(left, right)\n",
    "\n",
    "\n",
    "def merge(left, right):#将两个有序的合成一个有序的数组\n",
    "    i, j = 0, 0\n",
    "    result = []\n",
    "    while i < len(left) and j < len(right):\n",
    "        if left[i] <= right[i]: # 易错：这里容易出错写成left[i] <= right[j]\n",
    "            result.append(left[i])\n",
    "            i += 1\n",
    "        else:\n",
    "            result.append(right[j])\n",
    "            j += 1\n",
    "    result += left[i:]\n",
    "    result += right[j:]\n",
    "    return result\n",
    "\n",
    "riginLists=[87,45,78,32,17,65,53,9,63]\n",
    "orderLists=merge_sort(riginLists)\n",
    "print(orderLists)"
   ]
  },
  {
   "cell_type": "markdown",
   "metadata": {},
   "source": [
    "##  堆排序 + topk问题"
   ]
  },
  {
   "cell_type": "code",
   "execution_count": 22,
   "metadata": {},
   "outputs": [
    {
     "name": "stdout",
     "output_type": "stream",
     "text": [
      "[9, 17, 32, 45, 53, 63, 65, 78, 87]\n"
     ]
    }
   ],
   "source": [
    "#  堆排序 + topk问题\n",
    "# 根结点（亦称为堆顶）的关键字是堆里所有结点关键字中最大者，称为大根堆，又称最大堆\n",
    "# （大顶堆）。\n",
    "# 大根堆要求根节点的关键字既大于或等于左子树的关键字值，又大于或等于右子树的关键字值。\n",
    "# 最主要\n",
    "def adjust_heap(lists, i, size):\n",
    "    # 每个根结点都必须比左右子树节点要大\n",
    "    lchild = 2 * i + 1\n",
    "    rchild = 2 * i + 2\n",
    "    max = i # 一开始是以i为最大，然后判断一下是不是最大，如果不是就交换\n",
    "    if i < size/2:\n",
    "        if lchild < size and lists[lchild] > lists[max]:\n",
    "            max = lchild\n",
    "        if rchild < size and lists[rchild] > lists[max]:\n",
    "            max = rchild\n",
    "        if max != i:\n",
    "            lists[max], lists[i] = lists[i], lists[max] # \n",
    "            adjust_heap(lists, max, size)\n",
    "\n",
    "def build_heap(lists, size):\n",
    "    for i in range(0, size//2)[::-1]:\n",
    "        adjust_heap(lists, i, size) \n",
    "        \n",
    "\n",
    "def heap_sort(lists):\n",
    "    size = len(lists)\n",
    "    build_heap(lists, size) # 构建堆\n",
    "    # 调整堆\n",
    "    for i in range(0, size)[::-1]:\n",
    "        lists[0], lists[i] = lists[i], lists[0] # 交换堆顶和堆底\n",
    "        adjust_heap(lists, 0, i) \n",
    "    return lists\n",
    "        \n",
    "riginLists=[87,45,78,32,17,65,53,9,63]\n",
    "a=heap_sort(riginLists)\n",
    "print(a)"
   ]
  },
  {
   "cell_type": "code",
   "execution_count": 25,
   "metadata": {},
   "outputs": [
    {
     "name": "stdout",
     "output_type": "stream",
     "text": [
      "[9, 17, 32, 45, 53, 63, 65, 78, 87]\n"
     ]
    }
   ],
   "source": [
    "# \n",
    "def adjust_heap(lists, i, size):\n",
    "    lchild = 2*i+1\n",
    "    rchild = 2*i+2\n",
    "    max = i\n",
    "    if i < size /2:\n",
    "        if lchild < size and lists[lchild] > lists[max]:\n",
    "            max = lchild\n",
    "        if rchild < size and lists[rchild] > lists[max]:\n",
    "            max = rchild\n",
    "        if max != i:\n",
    "            lists[max], lists[i] = lists[i], lists[max]\n",
    "            adjust_heap(lists,max, size)\n",
    "\n",
    "\n",
    "def build_heap(lists):\n",
    "    size = len(lists)\n",
    "    for i in range(0, size//2)[::-1]:\n",
    "        adjust_heap(lists, i, size)\n",
    "def heap_sort(lists):\n",
    "    size = len(lists)\n",
    "    build_heap(lists)\n",
    "    \n",
    "    for i in range(0, size)[::-1]:\n",
    "        lists[0], lists[i] = lists[i], lists[0]\n",
    "        adjust_heap(lists, 0, i)\n",
    "    \n",
    "    return lists\n",
    "riginLists=[87,45,78,32,17,65,53,9,63]\n",
    "a=heap_sort(riginLists)\n",
    "print(a)"
   ]
  },
  {
   "cell_type": "markdown",
   "metadata": {},
   "source": [
    "# dp专题"
   ]
  },
  {
   "cell_type": "markdown",
   "metadata": {},
   "source": [
    "## 300 最长上升子序列： 时间复杂度为 O(N2)"
   ]
  },
  {
   "cell_type": "code",
   "execution_count": 13,
   "metadata": {},
   "outputs": [
    {
     "name": "stdout",
     "output_type": "stream",
     "text": [
      "4\n"
     ]
    }
   ],
   "source": [
    "# 最长上升子序列： 时间复杂度为 O(N2)\n",
    "def lengthOfLIS(nums):\n",
    "    n =  len(nums)\n",
    "    # 状态\n",
    "    dp = [1] * n\n",
    "    # 状态转移: dp[i] 代表当前最长的子序列\n",
    "    for i in range(1, n):\n",
    "        for j in range(0, i):# 如果前面有\n",
    "            if nums[i] > nums[j]: # 如果当前为大于前面某一位才会进行，否则跳过\n",
    "                dp[i] = max(dp[i], dp[j]+1)\n",
    "    return max(dp)\n",
    "print(lengthOfLIS([10,9,2,5,3,7,101,18]))\n"
   ]
  },
  {
   "cell_type": "markdown",
   "metadata": {},
   "source": [
    "##  53. 最大子序和\n",
    "给定一个整数数组 nums ，找到一个具有最大和的连续子数组（子数组最少包含一个元素），返回其最大和。\n",
    "\n",
    "示例:"
   ]
  },
  {
   "cell_type": "code",
   "execution_count": null,
   "metadata": {
    "collapsed": true
   },
   "outputs": [],
   "source": [
    "class Solution:\n",
    "    def maxSubArray(self, nums: List[int]) -> int:\n",
    "        if len(nums) < 2:\n",
    "            return nums[0]\n",
    "        else:\n",
    "            res = nums[0]\n",
    "            sum1 = 0\n",
    "            for i in range(0, len(nums)):\n",
    "                # 如果前面和为整数，那么就连续，否则就当前的重新起\n",
    "                if sum1 > 0:\n",
    "                    sum1 += nums[i]\n",
    "                else:\n",
    "                    sum1 = nums[i]\n",
    "                res =  max(sum1, res)\n",
    "        return res"
   ]
  },
  {
   "cell_type": "markdown",
   "metadata": {},
   "source": [
    "## 3. 无重复字符的最长子串  \n",
    "给定一个字符串，请你找出其中不含有重复字符的 最长子串 的长度。\n",
    "根据例子的思路推广至一般的情况：\n",
    "给出一个字符串Si，已知它的最长子串长度为Li，如果在Si的末尾追加一个字符C，即Si+1=Si+C，那么Si+1的最长子串是多少？\n",
    "\n",
    "很容易想到：\n",
    "\n",
    "lengthOfLongestSubString(Si+1)=max(Li,len(C结尾的无重复子串))\n"
   ]
  },
  {
   "cell_type": "code",
   "execution_count": 14,
   "metadata": {
    "collapsed": true
   },
   "outputs": [],
   "source": [
    "class Solution:\n",
    "    def lengthOfLongestSubstring(self, s: str) -> int:\n",
    "        if s == '':\n",
    "            return 0\n",
    "        if len(s) == 1:\n",
    "            return 1\n",
    "        def find_left(s, i):# 求以s为结尾的无重复子串长度\n",
    "            tmp_str = s[i]\n",
    "            j = i - 1\n",
    "            while j >= 0 and s[j] not in tmp_str:\n",
    "                tmp_str += s[j]\n",
    "                j -= 1\n",
    "            return len(tmp_str)\n",
    "        \n",
    "        length = 0\n",
    "        for i in range(0, len(s)):\n",
    "            length = max(length, find_left(s, i))\n",
    "        return length"
   ]
  },
  {
   "cell_type": "code",
   "execution_count": 42,
   "metadata": {},
   "outputs": [
    {
     "name": "stdout",
     "output_type": "stream",
     "text": [
      "2\n"
     ]
    }
   ],
   "source": [
    "b = 1\n",
    "print(b ^ 3)"
   ]
  },
  {
   "cell_type": "code",
   "execution_count": null,
   "metadata": {
    "collapsed": true
   },
   "outputs": [],
   "source": []
  }
 ],
 "metadata": {
  "kernelspec": {
   "display_name": "Python 3",
   "language": "python",
   "name": "python3"
  },
  "language_info": {
   "codemirror_mode": {
    "name": "ipython",
    "version": 3
   },
   "file_extension": ".py",
   "mimetype": "text/x-python",
   "name": "python",
   "nbconvert_exporter": "python",
   "pygments_lexer": "ipython3",
   "version": "3.6.9"
  }
 },
 "nbformat": 4,
 "nbformat_minor": 2
}
