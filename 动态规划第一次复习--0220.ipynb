{
 "cells": [
  {
   "cell_type": "markdown",
   "metadata": {},
   "source": [
    "# 类型一： 选不选的问题\n",
    "# 1.打家劫舍： 198， 213 ， 337（树形dp）\n",
    "\n"
   ]
  },
  {
   "cell_type": "code",
   "execution_count": 3,
   "metadata": {},
   "outputs": [
    {
     "data": {
      "text/plain": [
       "12"
      ]
     },
     "execution_count": 3,
     "metadata": {},
     "output_type": "execute_result"
    }
   ],
   "source": [
    "# 198 : 一次完成\n",
    "\n",
    "# 递推迭代\n",
    "def rob(nums):\n",
    "    # 1.先定义格子状态：每个格子是代表第i天能获得最大的：子问题\n",
    "    dp = [0] * len(nums)\n",
    "    \n",
    "    # 3. 再处理边界情况\n",
    "    dp[0] = nums[0]\n",
    "    dp[1] = max(nums[0], nums[1])\n",
    "    \n",
    "    # 2.先写动态方程\n",
    "    for i in range(2, len(nums)):\n",
    "        dp[i] = max(dp[i-1], dp[i-2]+nums[i])\n",
    "    return dp[-1]\n",
    "\n",
    "rob([2,7,9,3,1])"
   ]
  },
  {
   "cell_type": "markdown",
   "metadata": {},
   "source": [
    "# 2.背包问题：\n",
    "- 0-1背包（416）， 背包里的物品最多可以选取一次（考虑当前物品用或者不用）\n",
    "- 完全背包问题（322,518）：背包里的物品可以无限次选取"
   ]
  },
  {
   "cell_type": "markdown",
   "metadata": {},
   "source": [
    "\n",
    "# 416  \n",
    "### 题目：\n",
    "给定一个只包含正整数的非空数组。是否可以将这个数组分割成两个子集，使得两个子集的元素和相等。\n",
    "  \n",
    "注意:  \n",
    "每个数组中的元素不会超过 100  \n",
    "数组的大小不会超过 200  "
   ]
  },
  {
   "cell_type": "code",
   "execution_count": 11,
   "metadata": {},
   "outputs": [
    {
     "name": "stdout",
     "output_type": "stream",
     "text": [
      "True\n"
     ]
    }
   ],
   "source": [
    "# 要看好几次\n",
    "\n",
    "def canPartition(nums):\n",
    "    n = len(nums)\n",
    "    if n < 2:\n",
    "        return False\n",
    "    sums = 0\n",
    "    for i in nums:\n",
    "        sums += i\n",
    "    if sums % 2 !=0:\n",
    "        return False\n",
    "    else:\n",
    "        target = sums//2\n",
    "    \n",
    "    # 1.难点：定义状态： dp[i][j] 表明前i个物品中， 能够做到挑选一些物品填满重为j的背包\n",
    "    dp = [[False] * (target+1) for _ in range(n)]\n",
    "    \n",
    "    # 3.处理边界情况\n",
    "    dp[0][0] = True\n",
    "    for i in range(1,target+1):\n",
    "        if(nums[0]==i): # 如果找到一件物品质量就满足目标，直接为true\n",
    "            dp[0][i]=True\n",
    "            break\n",
    "    # 2.状态转移\n",
    "    for i in range(1, n):\n",
    "        for j in range(target+1):\n",
    "            # 第i位取的话， 不取的话\n",
    "            if j >= nums[i]:# 如果背包可装 重量 大于 当前物品，则可以继续装入\n",
    "                dp[i][j] = dp[i-1][j] or dp[i-1][j-nums[i]]\n",
    "                \n",
    "            else:\n",
    "                dp[i][j]=dp[i-1][j]\n",
    "    return dp[-1][-1]\n",
    "                \n",
    "\n",
    "print(canPartition([1, 5, 11, 5]))"
   ]
  },
  {
   "cell_type": "markdown",
   "metadata": {},
   "source": [
    "# 887. 鸡蛋掉落\n",
    "你将获得 K 个鸡蛋，并可以使用一栋从 1 到 N 共有 N 层楼的建筑。\n",
    "\n",
    "每个蛋的功能都是一样的，如果一个蛋碎了，你就不能再把它掉下去。\n",
    "\n",
    "你知道存在楼层 F ，满足 0 <= F <= N 任何从高于 F 的楼层落下的鸡蛋都会碎，从 F 楼层或比它低的楼层落下的鸡蛋都不会破。\n",
    "\n",
    "每次移动，你可以取一个鸡蛋（如果你有完整的鸡蛋）并把它从任一楼层 X 扔下（满足 1 <= X <= N）。\n",
    "\n",
    "你的目标是确切地知道 F 的值是多少。\n",
    "\n",
    "无论 F 的初始值如何，你确定 F 的值的最小移动次数是多少？"
   ]
  },
  {
   "cell_type": "code",
   "execution_count": 14,
   "metadata": {},
   "outputs": [
    {
     "name": "stdout",
     "output_type": "stream",
     "text": [
      "4\n"
     ]
    }
   ],
   "source": [
    "# 用递归要做一个备忘录, 记录重叠子问题  ！！ 还要看两次才能做出来\n",
    "def superEggDrop(K, N):\n",
    "    all_dict = {}\n",
    "    def dp(K, N):\n",
    "        if K == 1:\n",
    "            return N\n",
    "        if N == 0:\n",
    "            return 0\n",
    "        if (K, N) in all_dict:\n",
    "            return all_dict[(K, N)]\n",
    "        res = float(\"INF\")\n",
    "        for i in range(1, N+1):\n",
    "            res = min(res, max(dp(K-1, i-1), dp(K, N-i))+1)\n",
    "            \n",
    "        all_dict.update({(K, N): res})\n",
    "        return res\n",
    "    \n",
    "    return dp(K, N)\n",
    "    \n",
    "print(superEggDrop(3, 14))    "
   ]
  },
  {
   "cell_type": "code",
   "execution_count": 17,
   "metadata": {},
   "outputs": [
    {
     "name": "stdout",
     "output_type": "stream",
     "text": [
      "4\n"
     ]
    }
   ],
   "source": [
    "# 用递推  默写不出来\n",
    "\n",
    "def superEggDrop(K, N):\n",
    "    # dp[k][m] : 用 k个鸡蛋经过m步最多能到的层数\n",
    "    dp = [[0]*(N+1) for _ in range(K+1)]\n",
    "    for m in range(1, N+1):\n",
    "        dp[0][m] = 0\n",
    "        for k in range(1, K+1):\n",
    "            dp[k][m] = dp[k-1][m-1] + dp[k][m-1] + 1\n",
    "            if dp[k][m] >= N:\n",
    "                return m\n",
    "    return N\n",
    "        \n",
    "print(superEggDrop(3, 14))  "
   ]
  },
  {
   "cell_type": "code",
   "execution_count": null,
   "metadata": {
    "collapsed": true
   },
   "outputs": [],
   "source": []
  }
 ],
 "metadata": {
  "kernelspec": {
   "display_name": "Python 3",
   "language": "python",
   "name": "python3"
  },
  "language_info": {
   "codemirror_mode": {
    "name": "ipython",
    "version": 3
   },
   "file_extension": ".py",
   "mimetype": "text/x-python",
   "name": "python",
   "nbconvert_exporter": "python",
   "pygments_lexer": "ipython3",
   "version": "3.6.9"
  }
 },
 "nbformat": 4,
 "nbformat_minor": 2
}
