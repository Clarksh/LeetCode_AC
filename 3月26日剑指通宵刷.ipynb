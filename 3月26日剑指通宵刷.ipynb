{
 "cells": [
  {
   "cell_type": "markdown",
   "metadata": {},
   "source": [
    "# 1、树"
   ]
  },
  {
   "cell_type": "markdown",
   "metadata": {},
   "source": [
    "## 面试题55 - I. 二叉树的深度\n",
    "```\n",
    "思路：层序遍历的衍生题：\n",
    "二叉树的深度，高度\n",
    "```"
   ]
  },
  {
   "cell_type": "code",
   "execution_count": 2,
   "metadata": {
    "collapsed": true
   },
   "outputs": [
    {
     "ename": "NameError",
     "evalue": "name 'TreeNode' is not defined",
     "output_type": "error",
     "traceback": [
      "\u001b[1;31m---------------------------------------------------------------------------\u001b[0m",
      "\u001b[1;31mNameError\u001b[0m                                 Traceback (most recent call last)",
      "\u001b[1;32m<ipython-input-2-4273236643bf>\u001b[0m in \u001b[0;36m<module>\u001b[1;34m()\u001b[0m\n\u001b[0;32m      1\u001b[0m \u001b[1;33m\u001b[0m\u001b[0m\n\u001b[1;32m----> 2\u001b[1;33m \u001b[1;32mdef\u001b[0m \u001b[0mmaxDepth\u001b[0m\u001b[1;33m(\u001b[0m\u001b[0mself\u001b[0m\u001b[1;33m,\u001b[0m \u001b[0mroot\u001b[0m\u001b[1;33m:\u001b[0m \u001b[0mTreeNode\u001b[0m\u001b[1;33m)\u001b[0m \u001b[1;33m->\u001b[0m \u001b[0mint\u001b[0m\u001b[1;33m:\u001b[0m\u001b[1;33m\u001b[0m\u001b[1;33m\u001b[0m\u001b[0m\n\u001b[0m\u001b[0;32m      3\u001b[0m     \u001b[1;32mif\u001b[0m \u001b[1;32mnot\u001b[0m \u001b[0mroot\u001b[0m\u001b[1;33m:\u001b[0m\u001b[1;33m\u001b[0m\u001b[1;33m\u001b[0m\u001b[0m\n\u001b[0;32m      4\u001b[0m         \u001b[1;32mreturn\u001b[0m \u001b[1;36m0\u001b[0m\u001b[1;33m\u001b[0m\u001b[1;33m\u001b[0m\u001b[0m\n\u001b[0;32m      5\u001b[0m     \u001b[0mcurrent_level\u001b[0m \u001b[1;33m=\u001b[0m \u001b[1;33m[\u001b[0m\u001b[0mroot\u001b[0m\u001b[1;33m]\u001b[0m \u001b[1;31m# 存当前节点\u001b[0m\u001b[1;33m\u001b[0m\u001b[1;33m\u001b[0m\u001b[0m\n",
      "\u001b[1;31mNameError\u001b[0m: name 'TreeNode' is not defined"
     ]
    }
   ],
   "source": [
    "# 非递归\n",
    "def maxDepth(self, root: TreeNode) -> int:\n",
    "    if not root:\n",
    "        return 0\n",
    "    current_level = [root] # 存当前节点\n",
    "    depth = 0\n",
    "    while current_level:\n",
    "        depth += 1 # 如果当前层有元素\n",
    "        next_level = []\n",
    "        for node in current_level:\n",
    "            if node.left:\n",
    "                next_level.append(node.left)\n",
    "            if node.right:\n",
    "                next_level.append(node.right)\n",
    "        current_level = next_level\n",
    "\n",
    "    return depth\n",
    "    \n",
    "    "
   ]
  },
  {
   "cell_type": "code",
   "execution_count": null,
   "metadata": {
    "collapsed": true
   },
   "outputs": [],
   "source": [
    "# 递归：\n",
    "def maxDepth(self, root: TreeNode) -> int:\n",
    "    if not root:\n",
    "        return 0\n",
    "    return max(self.maxDepth(root.left), self.maxDepth(root.right)) + 1"
   ]
  },
  {
   "cell_type": "markdown",
   "metadata": {},
   "source": [
    "## 面试题27. 二叉树的镜像\n",
    "```\n",
    "层序遍历的衍生题：\n",
    "输出每一层的倒序\n",
    "```"
   ]
  },
  {
   "cell_type": "code",
   "execution_count": 6,
   "metadata": {
    "collapsed": true
   },
   "outputs": [
    {
     "ename": "NameError",
     "evalue": "name 'TreeNode' is not defined",
     "output_type": "error",
     "traceback": [
      "\u001b[1;31m---------------------------------------------------------------------------\u001b[0m",
      "\u001b[1;31mNameError\u001b[0m                                 Traceback (most recent call last)",
      "\u001b[1;32m<ipython-input-6-f631b5afe3c1>\u001b[0m in \u001b[0;36m<module>\u001b[1;34m()\u001b[0m\n\u001b[1;32m----> 1\u001b[1;33m \u001b[1;32mdef\u001b[0m \u001b[0mmirrorTree\u001b[0m\u001b[1;33m(\u001b[0m\u001b[0mself\u001b[0m\u001b[1;33m,\u001b[0m \u001b[0mroot\u001b[0m\u001b[1;33m:\u001b[0m \u001b[0mTreeNode\u001b[0m\u001b[1;33m)\u001b[0m \u001b[1;33m->\u001b[0m \u001b[0mTreeNode\u001b[0m\u001b[1;33m:\u001b[0m\u001b[1;33m\u001b[0m\u001b[1;33m\u001b[0m\u001b[0m\n\u001b[0m\u001b[0;32m      2\u001b[0m     \u001b[0mres\u001b[0m \u001b[1;33m=\u001b[0m \u001b[1;33m[\u001b[0m\u001b[1;33m]\u001b[0m\u001b[1;33m\u001b[0m\u001b[1;33m\u001b[0m\u001b[0m\n\u001b[0;32m      3\u001b[0m     \u001b[1;32mif\u001b[0m \u001b[1;32mnot\u001b[0m \u001b[0mroot\u001b[0m\u001b[1;33m:\u001b[0m\u001b[1;33m\u001b[0m\u001b[1;33m\u001b[0m\u001b[0m\n\u001b[0;32m      4\u001b[0m         \u001b[1;32mreturn\u001b[0m \u001b[0mres\u001b[0m\u001b[1;33m\u001b[0m\u001b[1;33m\u001b[0m\u001b[0m\n\u001b[0;32m      5\u001b[0m     \u001b[0mcurrent_level\u001b[0m \u001b[1;33m=\u001b[0m \u001b[1;33m[\u001b[0m\u001b[0mroot\u001b[0m\u001b[1;33m]\u001b[0m\u001b[1;33m\u001b[0m\u001b[1;33m\u001b[0m\u001b[0m\n",
      "\u001b[1;31mNameError\u001b[0m: name 'TreeNode' is not defined"
     ]
    }
   ],
   "source": [
    "# 看错题目，错误！\n",
    "def mirrorTree(self, root: TreeNode) -> TreeNode:\n",
    "    res = []\n",
    "    if not root:\n",
    "        return res\n",
    "    current_level = [root]\n",
    "\n",
    "    while current_level:\n",
    "        tmp = []\n",
    "        next_level = []\n",
    "        for node in current_level:\n",
    "            tmp.append(node.val)\n",
    "            if node.left:\n",
    "                next_level.append(node.left)\n",
    "            if node.right:\n",
    "                next_level.append(node.right)\n",
    "        tmp.reverse()\n",
    "        #print(tmp)\n",
    "        res += tmp\n",
    "        #print(res)\n",
    "\n",
    "        current_level = next_level\n",
    "    # int(res)\n",
    "    return res  # 输出的是一棵树，不是一个数组"
   ]
  },
  {
   "cell_type": "code",
   "execution_count": 8,
   "metadata": {},
   "outputs": [
    {
     "name": "stdout",
     "output_type": "stream",
     "text": [
      "[3, 2, 1]\n",
      "[3, 2, 1, 1, 2]\n"
     ]
    }
   ],
   "source": [
    "# 正确解法\n",
    "# 遍历每一层，对每个父节点，的左右子树交换位置\n",
    "    def mirrorTree(self, root: TreeNode) -> TreeNode:\n",
    "        if not root:\n",
    "            return\n",
    "        queue = [root]\n",
    "        while queue:\n",
    "            node = queue.pop(0)\n",
    "            if node.left and node.right:\n",
    "                node.left, node.right = node.right, node.left\n",
    "                queue.append(node.left)\n",
    "                queue.append(node.right)\n",
    "            elif node.left and not node.right:# 易漏\n",
    "                node.right = node.left\n",
    "                node.left = None  # 易漏\n",
    "                queue.append(node.right)\n",
    "            elif node.right and not node.left:\n",
    "                node.left = node.right\n",
    "                node.right = None\n",
    "                queue.append(node.left)\n",
    "        return root"
   ]
  },
  {
   "cell_type": "markdown",
   "metadata": {},
   "source": [
    "## 面试题54. 二叉搜索树的第k大节点\n",
    "```\n",
    "中序遍历的衍生题：二叉搜索树经过中序遍历之后能成为有序数组\n",
    "# 试一下非递归\n",
    "```"
   ]
  },
  {
   "cell_type": "code",
   "execution_count": null,
   "metadata": {
    "collapsed": true
   },
   "outputs": [],
   "source": [
    "# \n",
    "def kthLargest(self, root: TreeNode, k: int) -> int:\n",
    "    if not root:\n",
    "        return\n",
    "    stack = []\n",
    "    res = []\n",
    "    node = root \n",
    "    while stack or node:\n",
    "        while node: # 父节点一直去找左子树\n",
    "            stack.append(node)\n",
    "            node = node.left\n",
    "        node = stack.pop() # 父节点,print这个位置\n",
    "        res.append(node.val)\n",
    "        node = node.right\n",
    "    return res[-k]\n",
    "            "
   ]
  },
  {
   "cell_type": "code",
   "execution_count": 9,
   "metadata": {},
   "outputs": [
    {
     "name": "stdout",
     "output_type": "stream",
     "text": [
      "2\n"
     ]
    }
   ],
   "source": [
    "a = [1,2,3,4]\n",
    "print(a[-3])"
   ]
  },
  {
   "cell_type": "markdown",
   "metadata": {
    "collapsed": true
   },
   "source": [
    "## 面试题32 - II. 从上到下打印二叉树 II\n",
    "```\n",
    "层次遍历的衍生题\n",
    "```"
   ]
  },
  {
   "cell_type": "code",
   "execution_count": null,
   "metadata": {
    "collapsed": true
   },
   "outputs": [],
   "source": [
    "def levelOrder(self, root: TreeNode) -> List[List[int]]:\n",
    "    res = []\n",
    "    if not root:\n",
    "        return res\n",
    "    current_level = [root]\n",
    "    \n",
    "    while current_level:\n",
    "        tmp = []\n",
    "        next_level = []\n",
    "        for node in current_level:\n",
    "            tmp.append(node.val)\n",
    "            if node.left:\n",
    "                next_level.append(node.left)\n",
    "            if node.right:\n",
    "                next_level.append(node.right)\n",
    "        current_level = next_level\n",
    "        res.append(tmp)\n",
    "    return res"
   ]
  },
  {
   "cell_type": "markdown",
   "metadata": {},
   "source": [
    "## 面试题32 - III. 从上到下打印二叉树 III\n",
    "```\n",
    "之字形打印\n",
    "```"
   ]
  },
  {
   "cell_type": "code",
   "execution_count": null,
   "metadata": {
    "collapsed": true
   },
   "outputs": [],
   "source": [
    "def levelOrder(self, root: TreeNode) -> List[List[int]]:\n",
    "    res = []\n",
    "    if not root:\n",
    "        return res\n",
    "    current_level = [root]\n",
    "    flag = 0\n",
    "    \n",
    "    while current_level:\n",
    "        flag += 1 \n",
    "        tmp = []\n",
    "        next_level = []\n",
    "        for node in current_level:\n",
    "            tmp.append(node.val)\n",
    "            if node.left:\n",
    "                next_level.append(node.left)\n",
    "            if node.right:\n",
    "                next_level.append(node.right)\n",
    "        if flag % 2 == 0: # 偶翻转\n",
    "            tmp.reverse()\n",
    "        current_level = next_level\n",
    "        res.append(tmp)\n",
    "    return res"
   ]
  },
  {
   "cell_type": "markdown",
   "metadata": {},
   "source": [
    "## 面试题68 - I. 二叉搜索树的最近公共祖先\n",
    "```\n",
    "给定一个二叉搜索树, 找到该树中两个指定节点的最近公共祖先。\n",
    "\n",
    "百度百科中最近公共祖先的定义为：“对于有根树 T 的两个结点 \n",
    "p、q，最近公共祖先表示为一个结点 x，满足 x 是 p、q 的祖\n",
    "先且 x 的深度尽可能大（一个节点也可以是它自己的祖先）。”\n",
    "思路：\n",
    "断 p 和 q 在向左还是向右的问题上，是否达成了一致\n",
    "如果 p 和 q 都小于root, 哥俩一致认为向左👈，则 root = root.left\n",
    "如果 p 和 q 都大于root, 哥俩一致认为向右👉，则 root = root.right\n",
    "如果 p 和 q 哥俩对下一步的路线出现了分歧，说明 p 和 q 在当前的节点上就要分道扬镳了，当前的 root 是哥俩临别前一起走的最后一站\n",
    "\n",
    "```"
   ]
  },
  {
   "cell_type": "code",
   "execution_count": null,
   "metadata": {
    "collapsed": true
   },
   "outputs": [],
   "source": [
    "def lowestCommonAncestor(self, root: 'TreeNode', p: 'TreeNode', q: 'TreeNode') -> 'TreeNode':\n",
    "    if not root:\n",
    "        return\n",
    "    while root:\n",
    "        if p.val > root.val and q.val > root.val:\n",
    "            root = root.right\n",
    "        elif p.val < root.val and q.val < root.val:\n",
    "            root = root.left\n",
    "        else:\n",
    "            return root  \n"
   ]
  },
  {
   "cell_type": "markdown",
   "metadata": {},
   "source": [
    "## 面试题68 - II. 二叉树的最近公共祖先\n",
    "```\n",
    "给定一个二叉树, 找到该树中两个指定节点的最近公共祖先。\n",
    "\n",
    "百度百科中最近公共祖先的定义为：“对于有根树 T 的两个结点 p、q，最近公共祖先表示为一个结点 x，满足 x 是 p、q 的祖先且 x 的深度尽可能大（一个节点也可以是它自己的祖先）。”\n",
    "\n",
    "```"
   ]
  },
  {
   "cell_type": "code",
   "execution_count": null,
   "metadata": {
    "collapsed": true
   },
   "outputs": [],
   "source": [
    "# 解法一： 非递归实现, 后序遍历的逆序就是根到该节点的路径: 不熟练！！！\n",
    "\n",
    "#  分别打印出根结点到p和q之间的路径。最后一个相同的点就是最近公共祖先 \n",
    "def lowestCommonAncestor(self, root: TreeNode, p: TreeNode, q: TreeNode) -> TreeNode:\n",
    "    if not root:\n",
    "        return\n",
    "    stack = [([root], root)]\n",
    "    res = []\n",
    "    while stack:\n",
    "        tmp, node = stack.pop()\n",
    "        if node.val == p.val or node.val == q.val: # 如果碰到头就加入res中\n",
    "            res.append(tmp)\n",
    "            if len(res) == 2:\n",
    "                break\n",
    "        if node.right:\n",
    "            stack.append(tmp + [node.right], node.right)\n",
    "        if node.left:\n",
    "            stack.append(tmp + [node.left], node.left)\n",
    "    i = 0\n",
    "    while i < min(len(res[0]), len(res[1])):  # 比较两条路径\n",
    "        if res[0][i].val != res[1][i].val:\n",
    "            break\n",
    "        i += 1\n",
    "    return res[0][i-1]"
   ]
  },
  {
   "cell_type": "code",
   "execution_count": null,
   "metadata": {
    "collapsed": true
   },
   "outputs": [],
   "source": [
    "# 解法二：递归 dfs : T:O(n) S:O(n)\n",
    "\n",
    "# 如果左子树返回是空，说明根节点不是最近的公共祖先，那么最近的公共祖先结果就在右子树里面，\n",
    "# 同理，如果右子树返回为空，说明根节点不是最近的公共祖先，说明最近公共祖先在左子树里面，\n",
    "# 如果左右子树一边返回了一个节点，即左右都不是空，则说明根节点就是最近的公共祖先了\n",
    "\n",
    "\n",
    "def lowestCommonAncestor(self, root: TreeNode, p: TreeNode, q: TreeNode) -> TreeNode:\n",
    "    if not root or root == p or root == q:\n",
    "        return root\n",
    "    # 分解成子问题\n",
    "    lnode = self.lowestCommonAncestor(root.left, p, q) # 在左子树找到的最近祖先\n",
    "    rnode = self.lowestCommonAncestor(root.right, p, q) # 在右子树找到的最近祖先\n",
    "    \n",
    "    if not lnode:\n",
    "        return rnode\n",
    "    if not rnode:\n",
    "        return lnode\n",
    "    \n",
    "    return root  # 左右子树都没有找到那么就是root"
   ]
  },
  {
   "cell_type": "markdown",
   "metadata": {},
   "source": [
    "## 面试题55 - II. 平衡二叉树\n",
    "```\n",
    "判断一颗树是不是平衡二叉树：\n",
    "递归\n",
    "非递归\n",
    "\n",
    "思路：求树高\n",
    "```"
   ]
  },
  {
   "cell_type": "code",
   "execution_count": null,
   "metadata": {
    "collapsed": true
   },
   "outputs": [],
   "source": [
    "# 解法一：递归  ： O(N2)\n",
    "def isBalanced(self, root: TreeNode) -> bool:\n",
    "    if not root:\n",
    "         return True\n",
    "    return abs(self.depth(root.left) - self.depth(root.right)) <= 1 \\\n",
    "and self.isBalanced(root.left) and self.isBalanced(root.right)\n",
    "    \n",
    "def depth(self, root):\n",
    "    if not root:\n",
    "        return 0\n",
    "    return max(self.depth(root.left), self.depth(root.right)) + 1"
   ]
  },
  {
   "cell_type": "code",
   "execution_count": null,
   "metadata": {
    "collapsed": true
   },
   "outputs": [],
   "source": [
    "# 解法二：down2top (提前阻断)   O(N)    \n",
    "# 熟练度 ： ？\n",
    "def isBalanced(self, root: TreeNode) -> bool:\n",
    "        return self.depth(root) != -1\n",
    "    \n",
    "def depth(self, root):\n",
    "    if not root:\n",
    "        return 0\n",
    "    left = self.depth(root.left)  # 左子树满足\n",
    "    if left == -1: return -1\n",
    "    right = self.depth(root.right)  # 右子树满足\n",
    "    if right == -1: return -1\n",
    "    if abs(left - right) > 1:    \n",
    "        return -1\n",
    "    else: \n",
    "        return max(left, right) + 1\n",
    "        "
   ]
  },
  {
   "cell_type": "markdown",
   "metadata": {},
   "source": [
    "## 面试题28. 对称的二叉树\n",
    "```\n",
    "树和镜像是一样的\n",
    "```"
   ]
  },
  {
   "cell_type": "code",
   "execution_count": null,
   "metadata": {
    "collapsed": true
   },
   "outputs": [],
   "source": [
    "# 递归\n",
    "class Solution:\n",
    "    def isSymmetric(self, root: TreeNode) -> bool:\n",
    "        # 先写递归终止条件\n",
    "        if root is None:\n",
    "            return True\n",
    "        return self.__helper(root.left, root.right)\n",
    "\n",
    "    def __helper(self, p1, p2):\n",
    "        # 递归终止条件\n",
    "        if p1 is None and p2 is None: # 两个都为空都是对称\n",
    "            return True\n",
    "        if p1 is None or p2 is None: # 只有一个为空那么不对称\n",
    "            return False\n",
    "        return p1.val == p2.val and self.__helper(p1.left, p2.right) \\\n",
    "    and self.__helper(p1.right, p2.left)\n",
    "        # 画一个镜像对称的二叉树，就一目了然\n",
    "        "
   ]
  },
  {
   "cell_type": "markdown",
   "metadata": {},
   "source": [
    "```\n",
    "分析：\n",
    "时间复杂度：O(N)，这里 N为树的结点个数，事实上这个递归方法就是在做树的遍历，每个结点访问一次；\n",
    "空间复杂度：O(H)，这里 H表示树的高度，系统栈需要 HH 长度的空间。\n",
    "```"
   ]
  },
  {
   "cell_type": "code",
   "execution_count": null,
   "metadata": {
    "collapsed": true
   },
   "outputs": [],
   "source": [
    "# 非递归写法（层序遍历）\n",
    "# 这个方法有点像层序遍历，故使用队列，但是根据对称性，队首和队\n",
    "# 尾其实都需要能够执行入队和出队操作，因此使用双端队列（Deque）；\n",
    "\n",
    "from collections import deque\n",
    "\n",
    "\n",
    "class TreeNode:\n",
    "    def __init__(self, x):\n",
    "        self.val = x\n",
    "        self.left = None\n",
    "        self.right = None\n",
    "\n",
    "\n",
    "class Solution:\n",
    "    def isSymmetric(self, root: TreeNode) -> bool:\n",
    "        if root is None:\n",
    "            return True\n",
    "\n",
    "        d = deque()              # 双向队列\n",
    "        d.appendleft(root.left)  # 左入列\n",
    "        d.append(root.right)     # 右入列\n",
    "\n",
    "        while d:\n",
    "            left_node = d.popleft()\n",
    "            right_node = d.pop()\n",
    "\n",
    "            if left_node is None and right_node is None:\n",
    "                continue\n",
    "\n",
    "            if left_node is None or right_node is None:\n",
    "                return False\n",
    "            # 代码走到这里一定有 left_node 和 right_node 非空\n",
    "            # 因此可以取出 val 进行判断了\n",
    "            if left_node.val != right_node.val:\n",
    "                return False\n",
    "            d.appendleft(left_node.right)\n",
    "            d.appendleft(left_node.left)\n",
    "            d.append(right_node.left)\n",
    "            d.append(right_node.right)\n",
    "        return True\n",
    "    \n",
    "# 复杂度分析：\n",
    "\n",
    "# 时间复杂度：O(N)O(N)，这里 NN 为树的结点个数，事实上这个递归方法就是在做树的遍历，每个结点访问一次；\n",
    "# 空间复杂度：O(L)O(L)，这里 LL 表示树的相邻两层结点个数之和的最大值。\n"
   ]
  },
  {
   "cell_type": "markdown",
   "metadata": {},
   "source": [
    "## 面试题07. 重建二叉树\n",
    "```\n",
    "输入某二叉树的前序遍历和中序遍历的结果，请重建该二叉树\n",
    "。假设输入的前序遍历和中序遍历的结果中都不含重复的数字。\n",
    "```"
   ]
  },
  {
   "cell_type": "code",
   "execution_count": null,
   "metadata": {
    "collapsed": true
   },
   "outputs": [],
   "source": [
    "# 递归解法\n",
    "def buildTree(self, preorder, inorder):\n",
    "    if len(inorder) == 0:\n",
    "        return None\n",
    "    \n",
    "    root = TreeNode(preorder[0])\n",
    "    mid = inorder.index(preorder[0])\n",
    "    # 构建左子树, \n",
    "    root.left = self.buildTree(preorder[1:mid+1], inorder[0:mid])\n",
    "    # 构建右子树, \n",
    "    root.right = self.buildTree(preorder[mid+1:], inorder[mid+1:])\n",
    "    return root\n",
    "\n",
    "# 递归时间复杂度为O(nlog(n))，空间复杂度为O(nlog(n))"
   ]
  },
  {
   "cell_type": "code",
   "execution_count": null,
   "metadata": {
    "collapsed": true
   },
   "outputs": [],
   "source": []
  },
  {
   "cell_type": "code",
   "execution_count": null,
   "metadata": {
    "collapsed": true
   },
   "outputs": [],
   "source": []
  }
 ],
 "metadata": {
  "kernelspec": {
   "display_name": "Python 3",
   "language": "python",
   "name": "python3"
  },
  "language_info": {
   "codemirror_mode": {
    "name": "ipython",
    "version": 3
   },
   "file_extension": ".py",
   "mimetype": "text/x-python",
   "name": "python",
   "nbconvert_exporter": "python",
   "pygments_lexer": "ipython3",
   "version": "3.6.9"
  }
 },
 "nbformat": 4,
 "nbformat_minor": 2
}
