{
 "cells": [
  {
   "cell_type": "markdown",
   "metadata": {},
   "source": [
    "# 1.遍历二叉树"
   ]
  },
  {
   "cell_type": "code",
   "execution_count": 6,
   "metadata": {},
   "outputs": [
    {
     "name": "stdout",
     "output_type": "stream",
     "text": [
      "递归实现前序遍历：\n",
      "0 1 3 7 8 4 9 2 5 6 \n",
      "\n",
      "0 1 3 7 8 4 9 2 5 6 \n",
      "非递归实现中序遍历：\n",
      "7 3 8 1 9 4 0 5 2 6 \n",
      "非递归实现后序遍历：\n",
      "7 8 3 9 4 1 5 6 2 0 \n",
      "队列实现层次遍历：\n",
      "0 1 2 3 4 5 6 7 8 9 "
     ]
    }
   ],
   "source": [
    "class Node(object):\n",
    "    def __init__(self, data=-1, lchild=None, rchild=None):\n",
    "        self.data = data\n",
    "        self.lchild = lchild\n",
    "        self.rchild = rchild\n",
    "    \n",
    "class Tree(object):\n",
    "    def __init__(self):\n",
    "        self.root = Node()\n",
    "        self.treeQueue = []\n",
    "        \n",
    "    def add(self, data): # 层序添加成完全二叉树\n",
    "        node = Node(data) \n",
    "        if self.root.data == -1:  # 树为空\n",
    "            self.root = node\n",
    "            self.treeQueue.append(self.root)\n",
    "        else:               # 树不为空，那么队列有根节点\n",
    "            treeNode = self.treeQueue[0]   # 取队列第一个数为父结点\n",
    "            if treeNode.lchild == None:   # 先加左子树\n",
    "                treeNode.lchild = node\n",
    "                self.treeQueue.append(node)\n",
    "            elif treeNode.rchild == None: # 后加右子树\n",
    "                treeNode.rchild = node\n",
    "                self.treeQueue.append(node)\n",
    "                self.treeQueue.pop(0)     # 父节点的左右子树都赋值了\n",
    "                \n",
    "    def pre_order_recursion(self, root):  # \n",
    "        if not root:\n",
    "            return \n",
    "        print(str(root.data) + \" \", end='')\n",
    "        self.pre_order_recursion(root.lchild)\n",
    "        self.pre_order_recursion(root.rchild)\n",
    "        \n",
    "    def pre_order_stack(self, root):\n",
    "        if not root:\n",
    "            return \n",
    "        stack = [] # pop() 函数用于移除列表中的一个元素（默认最后一个元素）\n",
    "        node = root  # 初试化父节点\n",
    "        while node or stack: # 一直有下一个节点，或者 stack里面有元素\n",
    "            while node:   # 从根结点开始一直寻找左子树\n",
    "                print(str(node.data) + \" \", end='')\n",
    "                stack.append(node) # 根\n",
    "                node = node.lchild\n",
    "            node = stack.pop()  # 当没有下一个左子树了，就返回最后一个父节点，看他的右子树\n",
    "            node = node.rchild\n",
    "            \n",
    "    def in_order_stack(self, root):\n",
    "        if not root:\n",
    "            return\n",
    "        stack = []\n",
    "        node = root\n",
    "        while node or stack:\n",
    "            while node:\n",
    "                stack.append(node)\n",
    "                node = node.lchild\n",
    "            # 当没有左子树了，就可以打印父节点了\n",
    "            node = stack.pop()\n",
    "            print(str(node.data) + \" \", end='') # 中序和前序区别就在这一行\n",
    "            node = node.rchild\n",
    "            \n",
    "    def post_order_stack(self, root):  \n",
    "        # 后序遍历难一些。利用先序：根->左-> 右， 变为 根->右->左（左右有序）\n",
    "        # 再输出  左->右->根\n",
    "        if not root:\n",
    "            return\n",
    "        stack = []\n",
    "        post_stack = []\n",
    "        node = root\n",
    "        while stack or node:\n",
    "            while node:\n",
    "                stack.append(node)\n",
    "                post_stack.append(node)\n",
    "                node = node.rchild\n",
    "            node = stack.pop()\n",
    "            node = node.lchild\n",
    "        while post_stack:\n",
    "            print(str(post_stack.pop().data) + \" \", end='')\n",
    "    # 时间复杂度： O(n): 每个节点只遍历一次\n",
    "    # 空间复杂度： O(2N): 两个stack\n",
    "    \n",
    "    def level_order_queue(self, root): # 队列实现:父节点出列，他的左右子树入列\n",
    "        if not root:\n",
    "            return\n",
    "        queue = []\n",
    "        node = root\n",
    "        queue.append(node)\n",
    "        while queue:\n",
    "            node = queue.pop(0)\n",
    "            print(str(node.data) + \" \", end='')\n",
    "            if node.lchild:\n",
    "                queue.append(node.lchild)\n",
    "            if node.rchild:\n",
    "                queue.append(node.rchild)\n",
    "        \n",
    "\n",
    "if __name__ == '__main__':\n",
    "    \"\"\"主函数\"\"\"\n",
    "    datas = [i for i in range(10)]        #生成十个数，放到树中\n",
    "    tree = Tree()   \n",
    "    for data in datas:                  \n",
    "        tree.add(data)           #逐个添加树的节点\n",
    "    print('递归实现前序遍历：')\n",
    "    tree.pre_order_recursion(tree.root)\n",
    "    print(\"\\n\")\n",
    "    tree.pre_order_stack(tree.root)\n",
    "    print('\\n非递归实现中序遍历：')\n",
    "    tree.in_order_stack(tree.root)\n",
    "    print('\\n非递归实现后序遍历：')\n",
    "    tree.post_order_stack(tree.root)\n",
    "    print('\\n队列实现层次遍历：')\n",
    "    tree.level_order_queue(tree.root)"
   ]
  },
  {
   "cell_type": "markdown",
   "metadata": {
    "collapsed": true
   },
   "source": [
    "# 2.构建二叉树"
   ]
  },
  {
   "cell_type": "code",
   "execution_count": null,
   "metadata": {
    "collapsed": true
   },
   "outputs": [],
   "source": [
    "# 合并两颗二叉搜索树\n",
    "\n",
    "```\n",
    "\n",
    "\n",
    "```"
   ]
  }
 ],
 "metadata": {
  "kernelspec": {
   "display_name": "Python 3",
   "language": "python",
   "name": "python3"
  },
  "language_info": {
   "codemirror_mode": {
    "name": "ipython",
    "version": 3
   },
   "file_extension": ".py",
   "mimetype": "text/x-python",
   "name": "python",
   "nbconvert_exporter": "python",
   "pygments_lexer": "ipython3",
   "version": "3.6.9"
  }
 },
 "nbformat": 4,
 "nbformat_minor": 2
}
